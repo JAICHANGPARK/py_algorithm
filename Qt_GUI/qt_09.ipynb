{
 "cells": [
  {
   "cell_type": "code",
   "execution_count": 1,
   "metadata": {},
   "outputs": [],
   "source": [
    "import sys\n",
    "from PyQt5.QtWidgets import *\n",
    "from PyQt5.QtGui import *\n",
    "import matplotlib.pyplot as plt\n",
    "from matplotlib.backends.backend_qt5agg import FigureCanvasQTAgg as FigureCanvas\n",
    "\n",
    "#데이터를 가져오기 위함.\n",
    "import pandas_datareader.data as web\n",
    "import pandas as pd\n",
    "from pandas import Series, DataFrame"
   ]
  },
  {
   "cell_type": "code",
   "execution_count": 2,
   "metadata": {},
   "outputs": [],
   "source": [
    "class MyWindow(QWidget):\n",
    "    def __init__(self):\n",
    "        super().__init__()\n",
    "        self.setupUI()\n",
    "\n",
    "    def setupUI(self):\n",
    "        self.setGeometry(600, 200, 1200, 600)\n",
    "        self.setWindowTitle(\"PyChart Viewer v0.1\")\n",
    "        self.setWindowIcon(QIcon('icon.png'))\n",
    "\n",
    "        self.lineEdit = QLineEdit()\n",
    "        self.pushButton = QPushButton(\"차트그리기\")\n",
    "        self.pushButton.clicked.connect(self.pushButtonClicked)\n",
    "\n",
    "        self.fig = plt.Figure()\n",
    "        self.canvas = FigureCanvas(self.fig)\n",
    "\n",
    "        leftLayout = QVBoxLayout()\n",
    "        leftLayout.addWidget(self.canvas)\n",
    "\n",
    "        # Right Layout\n",
    "        rightLayout = QVBoxLayout()\n",
    "        rightLayout.addWidget(self.lineEdit)\n",
    "        rightLayout.addWidget(self.pushButton)\n",
    "        rightLayout.addStretch(1)\n",
    "\n",
    "        layout = QHBoxLayout()\n",
    "        layout.addLayout(leftLayout)\n",
    "        layout.addLayout(rightLayout)\n",
    "        layout.setStretchFactor(leftLayout, 1)\n",
    "        layout.setStretchFactor(rightLayout, 0)\n",
    "\n",
    "        self.setLayout(layout)\n",
    "\n",
    "    def pushButtonClicked(self):\n",
    "        code = self.lineEdit.text()\n",
    "        df = web.DataReader(code,\"yahoo\")\n",
    "        df['MA20'] = df['Adj Close'].rolling(window=20).mean()\n",
    "        df['MA60'] = df['Adj Close'].rolling(window=60).mean()\n",
    "        \n",
    "        ax = self.fig.add_subplot(111)\n",
    "        ax.plot(df.index, df['Adj Close'], label='Adj Close')\n",
    "        ax.plot(df.index, df['MA20'], label='MA20')\n",
    "        ax.plot(df.index, df['MA60'], label='MA60')\n",
    "        ax.legend(loc='upper right')\n",
    "        ax.grid()\n",
    "\n",
    "        self.canvas.draw()"
   ]
  },
  {
   "cell_type": "code",
   "execution_count": 3,
   "metadata": {},
   "outputs": [
    {
     "ename": "KeyboardInterrupt",
     "evalue": "",
     "output_type": "error",
     "traceback": [
      "\u001b[1;31m---------------------------------------------------------------------------\u001b[0m",
      "\u001b[1;31mKeyboardInterrupt\u001b[0m                         Traceback (most recent call last)",
      "\u001b[1;32mc:\\users\\2e313jcp\\appdata\\local\\programs\\python\\python35\\lib\\site-packages\\matplotlib\\backends\\backend_qt5.py\u001b[0m in \u001b[0;36menterEvent\u001b[1;34m(self, event)\u001b[0m\n\u001b[0;32m    259\u001b[0m         \u001b[1;32mreturn\u001b[0m \u001b[0mint\u001b[0m\u001b[1;33m(\u001b[0m\u001b[0mw\u001b[0m \u001b[1;33m/\u001b[0m \u001b[0mself\u001b[0m\u001b[1;33m.\u001b[0m\u001b[0m_dpi_ratio\u001b[0m\u001b[1;33m)\u001b[0m\u001b[1;33m,\u001b[0m \u001b[0mint\u001b[0m\u001b[1;33m(\u001b[0m\u001b[0mh\u001b[0m \u001b[1;33m/\u001b[0m \u001b[0mself\u001b[0m\u001b[1;33m.\u001b[0m\u001b[0m_dpi_ratio\u001b[0m\u001b[1;33m)\u001b[0m\u001b[1;33m\u001b[0m\u001b[0m\n\u001b[0;32m    260\u001b[0m \u001b[1;33m\u001b[0m\u001b[0m\n\u001b[1;32m--> 261\u001b[1;33m     \u001b[1;32mdef\u001b[0m \u001b[0menterEvent\u001b[0m\u001b[1;33m(\u001b[0m\u001b[0mself\u001b[0m\u001b[1;33m,\u001b[0m \u001b[0mevent\u001b[0m\u001b[1;33m)\u001b[0m\u001b[1;33m:\u001b[0m\u001b[1;33m\u001b[0m\u001b[0m\n\u001b[0m\u001b[0;32m    262\u001b[0m         \u001b[0mFigureCanvasBase\u001b[0m\u001b[1;33m.\u001b[0m\u001b[0menter_notify_event\u001b[0m\u001b[1;33m(\u001b[0m\u001b[0mself\u001b[0m\u001b[1;33m,\u001b[0m \u001b[0mguiEvent\u001b[0m\u001b[1;33m=\u001b[0m\u001b[0mevent\u001b[0m\u001b[1;33m)\u001b[0m\u001b[1;33m\u001b[0m\u001b[0m\n\u001b[0;32m    263\u001b[0m \u001b[1;33m\u001b[0m\u001b[0m\n",
      "\u001b[1;31mKeyboardInterrupt\u001b[0m: "
     ]
    }
   ],
   "source": [
    "if __name__ == \"__main__\":\n",
    "    app = QApplication(sys.argv)\n",
    "    window = MyWindow()\n",
    "    window.show()\n",
    "    app.exec_()"
   ]
  },
  {
   "cell_type": "markdown",
   "metadata": {},
   "source": [
    "- 078930.KS"
   ]
  },
  {
   "cell_type": "code",
   "execution_count": null,
   "metadata": {},
   "outputs": [],
   "source": []
  }
 ],
 "metadata": {
  "kernelspec": {
   "display_name": "Python 3",
   "language": "python",
   "name": "python3"
  },
  "language_info": {
   "codemirror_mode": {
    "name": "ipython",
    "version": 3
   },
   "file_extension": ".py",
   "mimetype": "text/x-python",
   "name": "python",
   "nbconvert_exporter": "python",
   "pygments_lexer": "ipython3",
   "version": "3.5.2"
  }
 },
 "nbformat": 4,
 "nbformat_minor": 2
}
