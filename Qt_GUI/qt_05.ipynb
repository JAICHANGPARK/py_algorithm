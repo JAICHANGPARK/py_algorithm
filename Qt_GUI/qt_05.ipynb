{
 "cells": [
  {
   "cell_type": "code",
   "execution_count": 1,
   "metadata": {},
   "outputs": [],
   "source": [
    "import sys\n",
    "from PyQt5.QtWidgets import *\n",
    "from PyQt5.QtCore import *\n",
    "\n",
    "kospi_top5 = {\n",
    "    'code': ['005930', '015760', '005380', '090430', '012330'],\n",
    "    'name': ['삼성전자', '한국전력', '현대차', '아모레퍼시픽', '현대모비스'],\n",
    "    'cprice': ['1,269,000', '60,100', '132,000', '414,500', '243,500']\n",
    "}\n",
    "\n",
    "column_idx_lookup = {'code': 0, 'name': 1, 'cprice': 2}\n",
    "\n",
    "class MyWindow(QMainWindow):\n",
    "    def __init__(self):\n",
    "        super().__init__()\n",
    "        self.setupUI()\n",
    "\n",
    "    def setupUI(self):\n",
    "        self.setGeometry(800, 200, 300, 300)\n",
    "\n",
    "        self.tableWidget = QTableWidget(self)\n",
    "        self.tableWidget.resize(290, 290)\n",
    "        self.tableWidget.setRowCount(2)\n",
    "        self.tableWidget.setColumnCount(2)\n",
    "        self.setTableWidgetData()\n",
    "\n",
    "    def setTableWidgetData(self):\n",
    "        self.tableWidget.setItem(0, 0, QTableWidgetItem(\"(0,0)\"))\n",
    "        self.tableWidget.setItem(0, 1, QTableWidgetItem(\"(0,1)\"))\n",
    "        self.tableWidget.setItem(1, 0, QTableWidgetItem(\"(1,0)\"))\n",
    "        self.tableWidget.setItem(1, 1, QTableWidgetItem(\"(1,1)\"))"
   ]
  },
  {
   "cell_type": "code",
   "execution_count": 2,
   "metadata": {},
   "outputs": [],
   "source": [
    "if __name__ == \"__main__\":\n",
    "    app = QApplication(sys.argv)\n",
    "    mywindow = MyWindow()\n",
    "    mywindow.show()\n",
    "    app.exec_()"
   ]
  },
  {
   "cell_type": "code",
   "execution_count": 2,
   "metadata": {},
   "outputs": [],
   "source": [
    "import sys\n",
    "from PyQt5.QtWidgets import *\n",
    "from PyQt5.QtCore import *\n",
    "\n",
    "kospi_top5 = {\n",
    "    'code': ['005930', '015760', '005380', '090430', '012330'],\n",
    "    'name': ['삼성전자', '한국전력', '현대차', '아모레퍼시픽', '현대모비스'],\n",
    "    'cprice': ['1,269,000', '60,100', '132,000', '414,500', '243,500']\n",
    "}\n",
    "\n",
    "column_idx_lookup = {'code': 0, 'name': 1, 'cprice': 2}\n",
    "class MyWindow(QMainWindow):\n",
    "    def __init__(self):\n",
    "        super().__init__()\n",
    "        self.setupUI()\n",
    "\n",
    "    def setupUI(self):\n",
    "        self.setGeometry(800, 200, 300, 300)\n",
    "\n",
    "        self.tableWidget = QTableWidget(self)\n",
    "        self.tableWidget.resize(290, 290)\n",
    "        self.tableWidget.setRowCount(5)\n",
    "        self.tableWidget.setColumnCount(3)\n",
    "        self.tableWidget.setEditTriggers(QAbstractItemView.NoEditTriggers)\n",
    "\n",
    "        self.setTableWidgetData()\n",
    "\n",
    "    def setTableWidgetData(self):\n",
    "        column_headers = ['종목코드', '종목명', '종가']\n",
    "        self.tableWidget.setHorizontalHeaderLabels(column_headers)\n",
    "\n",
    "        for k, v in kospi_top5.items():\n",
    "            col = column_idx_lookup[k]\n",
    "            for row, val in enumerate(v):\n",
    "                item = QTableWidgetItem(val)\n",
    "                if col == 2:\n",
    "                    item.setTextAlignment(Qt.AlignVCenter | Qt.AlignRight)\n",
    "\n",
    "                self.tableWidget.setItem(row, col, item)\n",
    "\n",
    "        self.tableWidget.resizeColumnsToContents()\n",
    "        self.tableWidget.resizeRowsToContents()"
   ]
  },
  {
   "cell_type": "code",
   "execution_count": 3,
   "metadata": {},
   "outputs": [],
   "source": [
    "if __name__ == \"__main__\":\n",
    "    app = QApplication(sys.argv)\n",
    "    mywindow = MyWindow()\n",
    "    mywindow.show()\n",
    "    app.exec_()"
   ]
  },
  {
   "cell_type": "code",
   "execution_count": null,
   "metadata": {},
   "outputs": [],
   "source": []
  }
 ],
 "metadata": {
  "kernelspec": {
   "display_name": "Python 3",
   "language": "python",
   "name": "python3"
  },
  "language_info": {
   "codemirror_mode": {
    "name": "ipython",
    "version": 3
   },
   "file_extension": ".py",
   "mimetype": "text/x-python",
   "name": "python",
   "nbconvert_exporter": "python",
   "pygments_lexer": "ipython3",
   "version": "3.5.2"
  }
 },
 "nbformat": 4,
 "nbformat_minor": 2
}
