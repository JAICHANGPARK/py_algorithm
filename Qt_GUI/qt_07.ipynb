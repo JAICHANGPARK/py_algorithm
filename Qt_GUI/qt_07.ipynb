{
 "cells": [
  {
   "cell_type": "code",
   "execution_count": 1,
   "metadata": {},
   "outputs": [],
   "source": [
    "import sys\n",
    "from PyQt5.QtWidgets import *\n",
    "\n",
    "class MyWindow(QWidget):\n",
    "    def __init__(self):\n",
    "        super().__init__()\n",
    "        self.setupUI()\n",
    "\n",
    "    def setupUI(self):\n",
    "        self.setGeometry(800, 200, 500, 300)\n",
    "\n",
    "        groupBox = QGroupBox(\"검색옵션\")\n",
    "        checkBox1 = QCheckBox(\"상한가\")\n",
    "        checkBox2 = QCheckBox(\"하한가\")\n",
    "        checkBox3 = QCheckBox(\"시가총액 상위\")\n",
    "        checkBox4 = QCheckBox(\"시가총액 하위\")\n",
    "        checkBox5 = QCheckBox(\"회전율 상위\")\n",
    "        checkBox6 = QCheckBox(\"대량거래상위\")\n",
    "        checkBox7 = QCheckBox(\"환산주가상위\")\n",
    "        checkBox8 = QCheckBox(\"외국인한도소진상위\")\n",
    "        checkBox9 = QCheckBox(\"투자자별순위\")\n",
    "\n",
    "        tableWidget = QTableWidget(10, 5)\n",
    "        tableWidget.setHorizontalHeaderLabels([\"종목코드\", \"종목명\", \"현재가\", \"등락률\", \"거래량\"])\n",
    "        tableWidget.resizeColumnsToContents()\n",
    "        tableWidget.resizeRowsToContents()\n",
    "\n",
    "        leftInnerLayOut = QVBoxLayout()\n",
    "        leftInnerLayOut.addWidget(checkBox1)\n",
    "        leftInnerLayOut.addWidget(checkBox2)\n",
    "        leftInnerLayOut.addWidget(checkBox3)\n",
    "        leftInnerLayOut.addWidget(checkBox4)\n",
    "        leftInnerLayOut.addWidget(checkBox5)\n",
    "        leftInnerLayOut.addWidget(checkBox6)\n",
    "        leftInnerLayOut.addWidget(checkBox7)\n",
    "        leftInnerLayOut.addWidget(checkBox8)\n",
    "        leftInnerLayOut.addWidget(checkBox9)\n",
    "        groupBox.setLayout(leftInnerLayOut)\n",
    "\n",
    "        leftLayOut = QVBoxLayout()\n",
    "        leftLayOut.addWidget(groupBox)\n",
    "\n",
    "        rightLayOut = QVBoxLayout()\n",
    "        rightLayOut.addWidget(tableWidget)\n",
    "\n",
    "        layout = QHBoxLayout()\n",
    "        layout.addLayout(leftLayOut)\n",
    "        layout.addLayout(rightLayOut)\n",
    "\n",
    "        self.setLayout(layout)"
   ]
  },
  {
   "cell_type": "code",
   "execution_count": 2,
   "metadata": {},
   "outputs": [],
   "source": [
    "if __name__ == \"__main__\":\n",
    "    app = QApplication(sys.argv)\n",
    "    mywindow = MyWindow()\n",
    "    mywindow.show()\n",
    "    app.exec_()"
   ]
  },
  {
   "cell_type": "code",
   "execution_count": null,
   "metadata": {},
   "outputs": [],
   "source": []
  }
 ],
 "metadata": {
  "kernelspec": {
   "display_name": "Python 3",
   "language": "python",
   "name": "python3"
  },
  "language_info": {
   "codemirror_mode": {
    "name": "ipython",
    "version": 3
   },
   "file_extension": ".py",
   "mimetype": "text/x-python",
   "name": "python",
   "nbconvert_exporter": "python",
   "pygments_lexer": "ipython3",
   "version": "3.5.2"
  }
 },
 "nbformat": 4,
 "nbformat_minor": 2
}
