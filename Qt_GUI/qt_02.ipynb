{
 "cells": [
  {
   "cell_type": "code",
   "execution_count": 1,
   "metadata": {},
   "outputs": [],
   "source": [
    "import sys\n",
    "from PyQt5.QtWidgets import *"
   ]
  },
  {
   "cell_type": "code",
   "execution_count": 2,
   "metadata": {},
   "outputs": [],
   "source": [
    "class MyWindow(QMainWindow):\n",
    "    def __init__(self):\n",
    "        super().__init__()\n",
    "        self.setupUI()\n",
    "\n",
    "    def setupUI(self):\n",
    "        self.setGeometry(800, 400, 300, 150)\n",
    "        # 라벨 생성\n",
    "        textLabel = QLabel(\"Message: \", self)\n",
    "        textLabel.move(20, 20)\n",
    "        \n",
    "        self.label = QLabel(\"\", self)\n",
    "        self.label.move(80, 20)\n",
    "        self.label.resize(150, 30)\n",
    "\n",
    "        btn1 = QPushButton(\"Click\", self)\n",
    "        btn1.move(20, 60)\n",
    "        btn1.clicked.connect(self.btn1_clicked)\n",
    "\n",
    "        btn2 = QPushButton(\"Clear\", self)\n",
    "        btn2.move(140, 60)\n",
    "        btn2.clicked.connect(self.btn2_clicked)\n",
    "\n",
    "    def btn1_clicked(self):\n",
    "        self.label.setText(\"버튼이 클릭되었습니다.\")\n",
    "\n",
    "    def btn2_clicked(self):\n",
    "        self.label.clear()"
   ]
  },
  {
   "cell_type": "code",
   "execution_count": 3,
   "metadata": {},
   "outputs": [],
   "source": [
    "if __name__ == \"__main__\":\n",
    "    app = QApplication(sys.argv)\n",
    "    mywindow = MyWindow()\n",
    "    mywindow.show()\n",
    "    app.exec_()"
   ]
  }
 ],
 "metadata": {
  "kernelspec": {
   "display_name": "Python 3",
   "language": "python",
   "name": "python3"
  },
  "language_info": {
   "codemirror_mode": {
    "name": "ipython",
    "version": 3
   },
   "file_extension": ".py",
   "mimetype": "text/x-python",
   "name": "python",
   "nbconvert_exporter": "python",
   "pygments_lexer": "ipython3",
   "version": "3.5.2"
  }
 },
 "nbformat": 4,
 "nbformat_minor": 2
}
