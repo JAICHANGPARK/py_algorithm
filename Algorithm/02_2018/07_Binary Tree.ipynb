{
 "cells": [
  {
   "cell_type": "code",
   "execution_count": 1,
   "metadata": {},
   "outputs": [],
   "source": [
    "class Node:\n",
    "    def __init__(self, item):\n",
    "        self.val = item\n",
    "        self.left = None\n",
    "        self.right = None\n"
   ]
  },
  {
   "cell_type": "code",
   "execution_count": 27,
   "metadata": {},
   "outputs": [],
   "source": [
    "class BinaryTree:\n",
    "    def __init__(self):\n",
    "        self.head = Node(None)\n",
    "         #test purpose lists\n",
    "        self.preorder_list = []\n",
    "        self.inorder_list = []\n",
    "        self.postorder_list = []\n",
    "    \n",
    "    def search(self, item):\n",
    "        if self.head.val is None:\n",
    "            return False\n",
    "        else:\n",
    "            return self.__search_node(self.head,item)\n",
    "    \n",
    "    def __search_node(self, cur, item):\n",
    "        if cur.val == item:\n",
    "            return True\n",
    "        else:\n",
    "            if cur.val >= item:\n",
    "                if cur.left is not None:\n",
    "                    return self.__search_node(cur.left, item)\n",
    "                else:\n",
    "                    return False\n",
    "            \n",
    "            else:\n",
    "                if cur.right is not None:\n",
    "                    return self.__search_node(cur.right, item)\n",
    "                else:\n",
    "                    return False\n",
    "    \n",
    "    \n",
    "    def add(self, item):\n",
    "        if self.head.val is None:\n",
    "            self.head.val = item\n",
    "        else:\n",
    "            self.__add_node(self.head, item)\n",
    "            \n",
    "    def __add_node(self, cur, item):\n",
    "        if cur.val >= item:\n",
    "            if cur.left is not None:\n",
    "                self.__add_node(cur.left, item)\n",
    "            else:\n",
    "                cur.left = Node(item)\n",
    "        \n",
    "        else:\n",
    "            if cur.right is not None:\n",
    "                self.__add_node(cur.right, item)\n",
    "            else:\n",
    "                cur.right = Node(item)\n",
    "    \n",
    "    def preorder_traverse(self):\n",
    "        if self.head is not None:\n",
    "            self.__preorder(self.head)\n",
    "            \n",
    "    # 언제 사용하는가?>\\\n",
    "    # 서버에서 한구조를 다른 서버로 그대로 보내고자할때\n",
    "    \n",
    "    def __preorder(self, cur):\n",
    "        \n",
    "        self.preorder_list.append(cur.val)\n",
    "        print(cur.val)\n",
    "        \n",
    "        if cur.left is not None:\n",
    "            self.__preorder(cur.left)\n",
    "            \n",
    "        if cur.right is not None:\n",
    "            self.__preorder(cur.right)\n",
    "    \n",
    "    \n",
    "    # 트리를 정렬하라고 할때 사용한다. \n",
    "    \n",
    "    def inorder_traverse(self):\n",
    "        if self.head is not None:\n",
    "            self.__inorder(self.head)\n",
    "\n",
    "    def __inorder(self, cur):\n",
    "        if cur.left is not None:\n",
    "            self.__inorder(cur.left)\n",
    "\n",
    "        self.inorder_list.append(cur.val)\n",
    "        print (cur.val)\n",
    "\n",
    "        if cur.right is not None:\n",
    "            self.__inorder(cur.right)\n",
    "    \n",
    "    def postorder_traverse(self):\n",
    "        if self.head is not None:\n",
    "            self.__postorder(self.head)\n",
    "\n",
    "    def __postorder(self, cur):\n",
    "        if cur.left is not None:\n",
    "            self.__postorder(cur.left)\n",
    "\n",
    "        if cur.right is not None:\n",
    "            self.__postorder(cur.right)\n",
    "\n",
    "        self.postorder_list.append(cur.val)\n",
    "        print (cur.val)\n"
   ]
  },
  {
   "cell_type": "code",
   "execution_count": 28,
   "metadata": {},
   "outputs": [],
   "source": [
    "bt = BinaryTree()\n",
    "bt.add(5)\n",
    "bt.add(3)\n",
    "bt.add(4)\n",
    "bt.add(1)\n",
    "bt.add(7)"
   ]
  },
  {
   "cell_type": "code",
   "execution_count": 29,
   "metadata": {},
   "outputs": [
    {
     "name": "stdout",
     "output_type": "stream",
     "text": [
      "5\n",
      "3\n",
      "1\n",
      "4\n",
      "7\n"
     ]
    }
   ],
   "source": [
    "bt.preorder_traverse()"
   ]
  },
  {
   "cell_type": "code",
   "execution_count": 30,
   "metadata": {},
   "outputs": [
    {
     "data": {
      "text/plain": [
       "False"
      ]
     },
     "execution_count": 30,
     "metadata": {},
     "output_type": "execute_result"
    }
   ],
   "source": [
    "bt.search(8)"
   ]
  },
  {
   "cell_type": "code",
   "execution_count": 31,
   "metadata": {},
   "outputs": [
    {
     "name": "stdout",
     "output_type": "stream",
     "text": [
      "1\n",
      "3\n",
      "4\n",
      "5\n",
      "7\n"
     ]
    }
   ],
   "source": [
    "bt.inorder_traverse()"
   ]
  },
  {
   "cell_type": "code",
   "execution_count": 32,
   "metadata": {},
   "outputs": [
    {
     "name": "stdout",
     "output_type": "stream",
     "text": [
      "1\n",
      "4\n",
      "3\n",
      "7\n",
      "5\n"
     ]
    }
   ],
   "source": [
    "bt.postorder_traverse()"
   ]
  },
  {
   "cell_type": "code",
   "execution_count": null,
   "metadata": {},
   "outputs": [],
   "source": []
  }
 ],
 "metadata": {
  "kernelspec": {
   "display_name": "Python 3",
   "language": "python",
   "name": "python3"
  },
  "language_info": {
   "codemirror_mode": {
    "name": "ipython",
    "version": 3
   },
   "file_extension": ".py",
   "mimetype": "text/x-python",
   "name": "python",
   "nbconvert_exporter": "python",
   "pygments_lexer": "ipython3",
   "version": "3.6.5"
  }
 },
 "nbformat": 4,
 "nbformat_minor": 2
}
