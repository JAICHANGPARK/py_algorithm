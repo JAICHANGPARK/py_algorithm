{
 "cells": [
  {
   "cell_type": "code",
   "execution_count": 1,
   "metadata": {},
   "outputs": [],
   "source": [
    "class Node:\n",
    "    def __init__(self, item):\n",
    "        self.val = item\n",
    "        self.next = None"
   ]
  },
  {
   "cell_type": "code",
   "execution_count": 4,
   "metadata": {},
   "outputs": [],
   "source": [
    "class LinkedList:\n",
    "    def __init__(self, item):\n",
    "        self.head = Node(item)\n",
    "    \n",
    "    def add(self, item):\n",
    "        cur = self.head\n",
    "        # 마지막 링크까지 죽쭉쭉쭉순회 \n",
    "        while cur.next is not None:\n",
    "            cur = cur.next\n",
    "        \n",
    "        # 마지막 리스트에 도달했다면 추가 \n",
    "        cur.next = Node(item)\n",
    "    \n",
    "    def remove(self,item):\n",
    "        \n",
    "        if self.head.val == item: # 만약 헤드벨류를 지운다고 한다면 \n",
    "            self.head = self.head.next # head를 다음 노드로 옮긴다.\n",
    "            \n",
    "        else:\n",
    "            cur = self.head\n",
    "            while cur.next is not None:\n",
    "                if cur.val == item:\n",
    "                    self.removeItem(item)\n",
    "                    return\n",
    "                cur = cur.next\n",
    "            print(\"item does not exist in linked list\")\n",
    "            \n",
    "    def removeItem(self, item):\n",
    "        cur = self.head\n",
    "        while cur.next is not None:\n",
    "            if cur.next.val == item:\n",
    "                next_node = cur.next.next\n",
    "                cur.next = next_node\n",
    "                break\n",
    "                \n",
    "    def printlist(self):\n",
    "        cur = self.head\n",
    "        while cur is not None:\n",
    "            print(cur.val)\n",
    "            cur = cur.next"
   ]
  },
  {
   "cell_type": "code",
   "execution_count": 5,
   "metadata": {},
   "outputs": [],
   "source": [
    "ll = LinkedList(3)"
   ]
  },
  {
   "cell_type": "code",
   "execution_count": 6,
   "metadata": {},
   "outputs": [],
   "source": [
    "ll.add(4)"
   ]
  },
  {
   "cell_type": "code",
   "execution_count": 7,
   "metadata": {},
   "outputs": [
    {
     "name": "stdout",
     "output_type": "stream",
     "text": [
      "3\n",
      "4\n"
     ]
    }
   ],
   "source": [
    "ll.printlist()"
   ]
  },
  {
   "cell_type": "code",
   "execution_count": 8,
   "metadata": {},
   "outputs": [],
   "source": [
    "ll.add(4)\n",
    "ll.add(4)\n",
    "ll.add(4)\n",
    "ll.add(4)\n",
    "ll.add(4)"
   ]
  },
  {
   "cell_type": "code",
   "execution_count": 9,
   "metadata": {},
   "outputs": [
    {
     "name": "stdout",
     "output_type": "stream",
     "text": [
      "3\n",
      "4\n",
      "4\n",
      "4\n",
      "4\n",
      "4\n",
      "4\n"
     ]
    }
   ],
   "source": [
    "ll.printlist()"
   ]
  },
  {
   "cell_type": "code",
   "execution_count": 10,
   "metadata": {},
   "outputs": [],
   "source": [
    "ll.remove(3)"
   ]
  },
  {
   "cell_type": "code",
   "execution_count": 11,
   "metadata": {},
   "outputs": [
    {
     "name": "stdout",
     "output_type": "stream",
     "text": [
      "4\n",
      "4\n",
      "4\n",
      "4\n",
      "4\n",
      "4\n"
     ]
    }
   ],
   "source": [
    "ll.printlist()"
   ]
  },
  {
   "cell_type": "code",
   "execution_count": 12,
   "metadata": {},
   "outputs": [],
   "source": [
    "ll.remove(4)"
   ]
  },
  {
   "cell_type": "code",
   "execution_count": 13,
   "metadata": {},
   "outputs": [
    {
     "name": "stdout",
     "output_type": "stream",
     "text": [
      "4\n",
      "4\n",
      "4\n",
      "4\n",
      "4\n"
     ]
    }
   ],
   "source": [
    "ll.printlist()"
   ]
  },
  {
   "cell_type": "code",
   "execution_count": null,
   "metadata": {},
   "outputs": [],
   "source": []
  }
 ],
 "metadata": {
  "kernelspec": {
   "display_name": "Python 3",
   "language": "python",
   "name": "python3"
  },
  "language_info": {
   "codemirror_mode": {
    "name": "ipython",
    "version": 3
   },
   "file_extension": ".py",
   "mimetype": "text/x-python",
   "name": "python",
   "nbconvert_exporter": "python",
   "pygments_lexer": "ipython3",
   "version": "3.6.5"
  }
 },
 "nbformat": 4,
 "nbformat_minor": 2
}
