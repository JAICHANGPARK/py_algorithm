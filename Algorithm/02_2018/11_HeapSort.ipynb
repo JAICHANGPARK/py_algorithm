{
 "cells": [
  {
   "cell_type": "code",
   "execution_count": 1,
   "metadata": {},
   "outputs": [],
   "source": [
    "def swap(a,i,j):\n",
    "    tmp = a[i]\n",
    "    a[i] = a[j]\n",
    "    a[j] = tmp"
   ]
  },
  {
   "cell_type": "code",
   "execution_count": 2,
   "metadata": {},
   "outputs": [],
   "source": [
    "def siftdown(a, i, size):\n",
    "    l = 2*i+1\n",
    "    r = 2*i+2\n",
    "    largest = i\n",
    "    if l <= size-1 and a[l] > a[i]:\n",
    "        largest = l\n",
    "    if r <= size-1 and a[r] > a[largest]:\n",
    "        largest = r\n",
    "    if largest != i:\n",
    "        swap(a, i, largest)\n",
    "        siftdown(a, largest, size)\n",
    "\n",
    "def heapify(a, size):\n",
    "    p = (size//2)-1\n",
    "    while p>=0:\n",
    "        siftdown(a, p, size)\n",
    "        p -= 1"
   ]
  },
  {
   "cell_type": "code",
   "execution_count": 3,
   "metadata": {},
   "outputs": [
    {
     "name": "stdout",
     "output_type": "stream",
     "text": [
      "[1, 2, 3, 4, 7, 9]\n"
     ]
    }
   ],
   "source": [
    "def heapsort(a):\n",
    "\n",
    "    def swap(a,i,j):\n",
    "        tmp = a[i]\n",
    "        a[i] = a[j]\n",
    "        a[j] = tmp\n",
    "\n",
    "    def siftdown(a, i, size):\n",
    "        l = 2*i+1\n",
    "        r = 2*i+2\n",
    "        largest = i\n",
    "        if l <= size-1 and a[l] > a[i]:\n",
    "            largest = l\n",
    "        if r <= size-1 and a[r] > a[largest]:\n",
    "            largest = r\n",
    "        if largest != i:\n",
    "            swap(a, i, largest)\n",
    "            siftdown(a, largest, size)\n",
    "\n",
    "    def heapify(a, size):\n",
    "        p = (size//2)-1\n",
    "        while p>=0:\n",
    "            siftdown(a, p, size)\n",
    "            p -= 1\n",
    "\n",
    "    size = len(a)\n",
    "    heapify(a, size)\n",
    "    end = size-1\n",
    "    while(end > 0):\n",
    "        swap(a, 0, end)\n",
    "        siftdown(a, 0, end)\n",
    "        end -= 1\n",
    "\n",
    "arr = [1,3,2,4,9,7]\n",
    "heapsort(arr)\n",
    "print(arr)"
   ]
  },
  {
   "cell_type": "code",
   "execution_count": null,
   "metadata": {},
   "outputs": [],
   "source": []
  }
 ],
 "metadata": {
  "kernelspec": {
   "display_name": "Python 3",
   "language": "python",
   "name": "python3"
  },
  "language_info": {
   "codemirror_mode": {
    "name": "ipython",
    "version": 3
   },
   "file_extension": ".py",
   "mimetype": "text/x-python",
   "name": "python",
   "nbconvert_exporter": "python",
   "pygments_lexer": "ipython3",
   "version": "3.6.5"
  }
 },
 "nbformat": 4,
 "nbformat_minor": 2
}
