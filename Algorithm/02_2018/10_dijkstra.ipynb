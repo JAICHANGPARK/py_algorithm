{
 "cells": [
  {
   "cell_type": "code",
   "execution_count": 5,
   "metadata": {},
   "outputs": [],
   "source": [
    "class Graph(object):\n",
    "    \"\"\"\n",
    "    A simple undirected, weighted graph\n",
    "    \"\"\"\n",
    "\n",
    "    def __init__(self):\n",
    "        self.nodes = set()\n",
    "        self.edges = {}\n",
    "        self.distances = {}\n",
    "\n",
    "    def add_node(self, value):\n",
    "        self.nodes.add(value)\n",
    "\n",
    "    def add_edge(self, from_node, to_node, distance):\n",
    "        self._add_edge(from_node, to_node, distance)\n",
    "        self._add_edge(to_node, from_node, distance)\n",
    "\n",
    "    def _add_edge(self, from_node, to_node, distance):\n",
    "        self.edges.setdefault(from_node, [])\n",
    "        self.edges[from_node].append(to_node)\n",
    "        self.distances[(from_node, to_node)] = distance\n"
   ]
  },
  {
   "cell_type": "code",
   "execution_count": 6,
   "metadata": {},
   "outputs": [],
   "source": [
    "def dijkstra(graph, initial_node):\n",
    "    visited = {initial_node: 0}\n",
    "    current_node = initial_node\n",
    "    path = {}\n",
    "\n",
    "    nodes = set(graph.nodes)\n",
    "\n",
    "    while nodes:\n",
    "        min_node = None\n",
    "        for node in nodes:\n",
    "            if node in visited:\n",
    "                if min_node is None:\n",
    "                    min_node = node\n",
    "                elif visited[node] < visited[min_node]:\n",
    "                    min_node = node\n",
    "\n",
    "        if min_node is None:\n",
    "            break\n",
    "\n",
    "        nodes.remove(min_node)\n",
    "        cur_wt = visited[min_node]\n",
    "\n",
    "        for edge in graph.edges[min_node]:\n",
    "            wt = cur_wt + graph.distances[(min_node, edge)]\n",
    "            if edge not in visited or wt < visited[edge]:\n",
    "                visited[edge] = wt\n",
    "                path[edge] = min_node\n",
    "\n",
    "    return visited, path"
   ]
  },
  {
   "cell_type": "code",
   "execution_count": 7,
   "metadata": {},
   "outputs": [],
   "source": [
    "def shortest_path(graph, initial_node, goal_node):\n",
    "    distances, paths = dijkstra(graph, initial_node)\n",
    "    route = [goal_node]\n",
    "\n",
    "    while goal_node != initial_node:\n",
    "        route.append(paths[goal_node])\n",
    "        goal_node = paths[goal_node]\n",
    "\n",
    "    route.reverse()\n",
    "    return route"
   ]
  },
  {
   "cell_type": "code",
   "execution_count": 9,
   "metadata": {},
   "outputs": [],
   "source": [
    "if __name__ == '__main__':\n",
    "    g = Graph()\n",
    "    g.nodes = set(range(1, 7))\n",
    "    g.add_edge(1, 2, 7)\n",
    "    g.add_edge(1, 3, 9)\n",
    "    g.add_edge(1, 6, 14)\n",
    "    g.add_edge(2, 3, 10)\n",
    "    g.add_edge(2, 4, 15)\n",
    "    g.add_edge(3, 4, 11)\n",
    "    g.add_edge(3, 6, 2)\n",
    "    g.add_edge(4, 5, 6)\n",
    "    g.add_edge(5, 6, 9)\n",
    "    shortest_path(g, 1, 5) == [1, 3, 6, 5]\n",
    "    shortest_path(g, 5, 1) == [5, 6, 3, 1]\n",
    "    shortest_path(g, 2, 5) == [2, 3, 6, 5]\n",
    "    shortest_path(g, 1, 4) == [1, 3, 4]"
   ]
  },
  {
   "cell_type": "code",
   "execution_count": null,
   "metadata": {},
   "outputs": [],
   "source": []
  },
  {
   "cell_type": "code",
   "execution_count": null,
   "metadata": {},
   "outputs": [],
   "source": []
  }
 ],
 "metadata": {
  "kernelspec": {
   "display_name": "Python 3",
   "language": "python",
   "name": "python3"
  },
  "language_info": {
   "codemirror_mode": {
    "name": "ipython",
    "version": 3
   },
   "file_extension": ".py",
   "mimetype": "text/x-python",
   "name": "python",
   "nbconvert_exporter": "python",
   "pygments_lexer": "ipython3",
   "version": "3.6.5"
  }
 },
 "nbformat": 4,
 "nbformat_minor": 2
}
