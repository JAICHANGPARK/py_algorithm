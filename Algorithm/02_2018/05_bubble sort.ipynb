{
 "cells": [
  {
   "cell_type": "markdown",
   "metadata": {},
   "source": [
    "## 버블 정렬 알고리즘\n",
    "\n",
    "- 순차적으로 바로 옆에 있는 데이터와 비교함\n",
    "- 정렬을 반복함으로 거품이 올라가는것을 비유하여 버블 정렬이라고 하는듯."
   ]
  },
  {
   "cell_type": "code",
   "execution_count": 1,
   "metadata": {},
   "outputs": [],
   "source": [
    "import random\n",
    "import time"
   ]
  },
  {
   "cell_type": "code",
   "execution_count": 2,
   "metadata": {},
   "outputs": [],
   "source": [
    "compare_counter = 0\n",
    "swap_counter = 0"
   ]
  },
  {
   "cell_type": "code",
   "execution_count": 3,
   "metadata": {},
   "outputs": [],
   "source": [
    "def bubble_sort(random_list):\n",
    "    for start_index in range(len(random_list) -1):\n",
    "        for index in range(1, len(random_list) - start_index):\n",
    "            if random_list[index -1] > random_list[index]: # 만약 현재의 인덱스 값이 이전 인덱스 값보다 작다면\n",
    "                temp = random_list[index - 1]\n",
    "                random_list[index -1] = random_list[index]\n",
    "                random_list[index] = temp"
   ]
  },
  {
   "cell_type": "code",
   "execution_count": 6,
   "metadata": {},
   "outputs": [
    {
     "name": "stdout",
     "output_type": "stream",
     "text": [
      "정렬할 데이터 수 200\n",
      "(정렬전)\n",
      "[153, 133, 185, 9, 91, 122, 162, 54, 166, 71, 85, 195, 134, 138, 78, 8, 78, 111, 31, 36, 197, 166, 105, 25, 180, 172, 54, 129, 98, 128, 101, 72, 131, 20, 81, 82, 108, 134, 151, 9, 84, 143, 198, 194, 36, 153, 111, 92, 16, 35, 77, 30, 170, 139, 93, 69, 198, 185, 194, 21, 121, 189, 79, 36, 123, 98, 176, 197, 45, 140, 64, 82, 117, 56, 21, 194, 152, 105, 109, 77, 5, 48, 127, 173, 28, 83, 56, 81, 50, 3, 105, 188, 171, 185, 126, 112, 72, 91, 164, 58, 60, 84, 167, 60, 156, 139, 138, 196, 161, 11, 193, 192, 57, 43, 55, 119, 169, 180, 194, 176, 93, 77, 38, 96, 59, 85, 82, 134, 188, 80, 82, 152, 159, 188, 86, 104, 49, 38, 191, 193, 21, 140, 139, 199, 178, 71, 99, 12, 127, 112, 110, 106, 182, 168, 53, 94, 162, 134, 151, 84, 73, 34, 111, 125, 129, 92, 9, 25, 128, 82, 128, 63, 126, 84, 80, 41, 101, 155, 185, 52, 133, 122, 164, 109, 34, 75, 118, 187, 110, 167, 194, 43, 111, 90, 47, 107, 112, 36, 191, 159]\n",
      "(정렬 후)\n",
      "[3, 5, 8, 9, 9, 9, 11, 12, 16, 20, 21, 21, 21, 25, 25, 28, 30, 31, 34, 34, 35, 36, 36, 36, 36, 38, 38, 41, 43, 43, 45, 47, 48, 49, 50, 52, 53, 54, 54, 55, 56, 56, 57, 58, 59, 60, 60, 63, 64, 69, 71, 71, 72, 72, 73, 75, 77, 77, 77, 78, 78, 79, 80, 80, 81, 81, 82, 82, 82, 82, 82, 83, 84, 84, 84, 84, 85, 85, 86, 90, 91, 91, 92, 92, 93, 93, 94, 96, 98, 98, 99, 101, 101, 104, 105, 105, 105, 106, 107, 108, 109, 109, 110, 110, 111, 111, 111, 111, 112, 112, 112, 117, 118, 119, 121, 122, 122, 123, 125, 126, 126, 127, 127, 128, 128, 128, 129, 129, 131, 133, 133, 134, 134, 134, 134, 138, 138, 139, 139, 139, 140, 140, 143, 151, 151, 152, 152, 153, 153, 155, 156, 159, 159, 161, 162, 162, 164, 164, 166, 166, 167, 167, 168, 169, 170, 171, 172, 173, 176, 176, 178, 180, 180, 182, 185, 185, 185, 185, 187, 188, 188, 188, 189, 191, 191, 192, 193, 193, 194, 194, 194, 194, 194, 195, 196, 197, 197, 198, 198, 199]\n",
      "데이터 크기 : 200\n",
      "실행시간 : 0.002991199493408203\n"
     ]
    }
   ],
   "source": [
    "if __name__ =='__main__':\n",
    "    my_list = []\n",
    "    input_n = input(\"정렬할 데이터 수 \")\n",
    "    for i in range(int(input_n)):\n",
    "        my_list.append(random.randint(1, int(input_n)))\n",
    "    print(\"(정렬전)\")\n",
    "    print(my_list)\n",
    "    \n",
    "    #--------------------------------정렬 처리 시작 -----------------#\n",
    "    start_time = time.time()\n",
    "    bubble_sort(my_list)\n",
    "    running_time = time.time() - start_time\n",
    "    \n",
    "    print(\"(정렬 후)\")\n",
    "    print(my_list)\n",
    "    \n",
    "    #---------------------------벤치마킹-------------------#\n",
    "    \n",
    "    print(\"데이터 크기 : {}\".format(int(input_n)))\n",
    "    print(\"실행시간 : {}\".format(running_time))"
   ]
  },
  {
   "cell_type": "code",
   "execution_count": null,
   "metadata": {},
   "outputs": [],
   "source": []
  }
 ],
 "metadata": {
  "kernelspec": {
   "display_name": "Python 3",
   "language": "python",
   "name": "python3"
  },
  "language_info": {
   "codemirror_mode": {
    "name": "ipython",
    "version": 3
   },
   "file_extension": ".py",
   "mimetype": "text/x-python",
   "name": "python",
   "nbconvert_exporter": "python",
   "pygments_lexer": "ipython3",
   "version": "3.6.5"
  }
 },
 "nbformat": 4,
 "nbformat_minor": 2
}
