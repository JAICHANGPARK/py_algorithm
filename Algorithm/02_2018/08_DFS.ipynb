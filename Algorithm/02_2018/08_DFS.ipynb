{
 "cells": [
  {
   "cell_type": "code",
   "execution_count": 1,
   "metadata": {},
   "outputs": [],
   "source": [
    "vertexList = ['0', '1', '2', '3', '4', '5', '6']\n",
    "edgeList = [(0,1), (0,2), (1,0) , (1,3) , (2,0) , (2,4) , (2,5) , (3,1), (4,2) , (4,6), (5,2), (6,4)]\n",
    "graphs = (vertexList, edgeList)\n"
   ]
  },
  {
   "cell_type": "code",
   "execution_count": 2,
   "metadata": {},
   "outputs": [
    {
     "data": {
      "text/plain": [
       "(['0', '1', '2', '3', '4', '5', '6'],\n",
       " [(0, 1),\n",
       "  (0, 2),\n",
       "  (1, 0),\n",
       "  (1, 3),\n",
       "  (2, 0),\n",
       "  (2, 4),\n",
       "  (2, 5),\n",
       "  (3, 1),\n",
       "  (4, 2),\n",
       "  (4, 6),\n",
       "  (5, 2),\n",
       "  (6, 4)])"
      ]
     },
     "execution_count": 2,
     "metadata": {},
     "output_type": "execute_result"
    }
   ],
   "source": [
    "graphs"
   ]
  },
  {
   "cell_type": "code",
   "execution_count": 4,
   "metadata": {},
   "outputs": [],
   "source": [
    "vertexList, edgeList = graphs"
   ]
  },
  {
   "cell_type": "code",
   "execution_count": 5,
   "metadata": {},
   "outputs": [
    {
     "data": {
      "text/plain": [
       "['0', '1', '2', '3', '4', '5', '6']"
      ]
     },
     "execution_count": 5,
     "metadata": {},
     "output_type": "execute_result"
    }
   ],
   "source": [
    "vertexList"
   ]
  },
  {
   "cell_type": "code",
   "execution_count": 6,
   "metadata": {},
   "outputs": [
    {
     "data": {
      "text/plain": [
       "[(0, 1),\n",
       " (0, 2),\n",
       " (1, 0),\n",
       " (1, 3),\n",
       " (2, 0),\n",
       " (2, 4),\n",
       " (2, 5),\n",
       " (3, 1),\n",
       " (4, 2),\n",
       " (4, 6),\n",
       " (5, 2),\n",
       " (6, 4)]"
      ]
     },
     "execution_count": 6,
     "metadata": {},
     "output_type": "execute_result"
    }
   ],
   "source": [
    "edgeList"
   ]
  },
  {
   "cell_type": "code",
   "execution_count": 26,
   "metadata": {},
   "outputs": [],
   "source": [
    "adjacencyList = [[] for vertex in vertexList]"
   ]
  },
  {
   "cell_type": "code",
   "execution_count": 27,
   "metadata": {},
   "outputs": [
    {
     "data": {
      "text/plain": [
       "[[], [], [], [], [], [], []]"
      ]
     },
     "execution_count": 27,
     "metadata": {},
     "output_type": "execute_result"
    }
   ],
   "source": [
    "adjacencyList"
   ]
  },
  {
   "cell_type": "code",
   "execution_count": 28,
   "metadata": {},
   "outputs": [
    {
     "name": "stdout",
     "output_type": "stream",
     "text": [
      "(0, 1)\n",
      "0\n",
      "(0, 2)\n",
      "0\n",
      "(1, 0)\n",
      "1\n",
      "(1, 3)\n",
      "1\n",
      "(2, 0)\n",
      "2\n",
      "(2, 4)\n",
      "2\n",
      "(2, 5)\n",
      "2\n",
      "(3, 1)\n",
      "3\n",
      "(4, 2)\n",
      "4\n",
      "(4, 6)\n",
      "4\n",
      "(5, 2)\n",
      "5\n",
      "(6, 4)\n",
      "6\n"
     ]
    }
   ],
   "source": [
    "for edge in edgeList:\n",
    "    print(edge)\n",
    "    print(edge[0])\n",
    "   \n",
    "#     print(adjacencyList[edge[0]])\n",
    "    adjacencyList[edge[0]].append(edge[1])"
   ]
  },
  {
   "cell_type": "code",
   "execution_count": 29,
   "metadata": {},
   "outputs": [
    {
     "data": {
      "text/plain": [
       "[[1, 2], [0, 3], [0, 4, 5], [1], [2, 6], [2], [4]]"
      ]
     },
     "execution_count": 29,
     "metadata": {},
     "output_type": "execute_result"
    }
   ],
   "source": [
    "adjacencyList"
   ]
  },
  {
   "cell_type": "code",
   "execution_count": 32,
   "metadata": {},
   "outputs": [
    {
     "data": {
      "text/plain": [
       "[1, 2]"
      ]
     },
     "execution_count": 32,
     "metadata": {},
     "output_type": "execute_result"
    }
   ],
   "source": [
    "adjacencyList[0]"
   ]
  },
  {
   "cell_type": "code",
   "execution_count": 35,
   "metadata": {},
   "outputs": [
    {
     "name": "stdout",
     "output_type": "stream",
     "text": [
      "0\n",
      "3\n"
     ]
    }
   ],
   "source": [
    "for neighbor in adjacencyList[1]:\n",
    "    print(neighbor)"
   ]
  },
  {
   "cell_type": "code",
   "execution_count": 43,
   "metadata": {},
   "outputs": [],
   "source": [
    "visitedVertex = []\n",
    "stack = [0]"
   ]
  },
  {
   "cell_type": "code",
   "execution_count": 44,
   "metadata": {},
   "outputs": [
    {
     "name": "stdout",
     "output_type": "stream",
     "text": [
      "for  1\n",
      "if  1\n",
      "for  2\n",
      "if  2\n",
      "for  0\n",
      "for  4\n",
      "if  4\n",
      "for  5\n",
      "if  5\n",
      "for  2\n",
      "for  2\n",
      "for  6\n",
      "if  6\n",
      "for  4\n",
      "for  0\n",
      "for  3\n",
      "if  3\n",
      "for  1\n"
     ]
    }
   ],
   "source": [
    "while stack:\n",
    "    current = stack.pop()\n",
    "    for neighbor in adjacencyList[current]:\n",
    "        print(\"for \" , neighbor)\n",
    "        if not neighbor in visitedVertex:\n",
    "            print(\"if \" , neighbor)\n",
    "            stack.append(neighbor)\n",
    "    \n",
    "    visitedVertex.append(current)"
   ]
  },
  {
   "cell_type": "code",
   "execution_count": 45,
   "metadata": {},
   "outputs": [
    {
     "data": {
      "text/plain": [
       "[0, 2, 5, 4, 6, 1, 3]"
      ]
     },
     "execution_count": 45,
     "metadata": {},
     "output_type": "execute_result"
    }
   ],
   "source": [
    "visitedVertex"
   ]
  },
  {
   "cell_type": "code",
   "execution_count": null,
   "metadata": {},
   "outputs": [],
   "source": []
  }
 ],
 "metadata": {
  "kernelspec": {
   "display_name": "Python 3",
   "language": "python",
   "name": "python3"
  },
  "language_info": {
   "codemirror_mode": {
    "name": "ipython",
    "version": 3
   },
   "file_extension": ".py",
   "mimetype": "text/x-python",
   "name": "python",
   "nbconvert_exporter": "python",
   "pygments_lexer": "ipython3",
   "version": "3.6.5"
  }
 },
 "nbformat": 4,
 "nbformat_minor": 2
}
