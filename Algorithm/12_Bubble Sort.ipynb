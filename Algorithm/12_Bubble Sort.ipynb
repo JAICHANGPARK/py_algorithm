{
 "cells": [
  {
   "cell_type": "code",
   "execution_count": 1,
   "metadata": {
    "collapsed": true
   },
   "outputs": [],
   "source": [
    "def bubble_sort(my_list):\n",
    "    for i in range(len(my_list)):\n",
    "        for j in range(i+1, len(my_list)):\n",
    "            if my_list[i] > my_list[j]:\n",
    "                my_list[i], my_list[j] = my_list[j], my_list[i]\n",
    "    return my_list"
   ]
  },
  {
   "cell_type": "code",
   "execution_count": 2,
   "metadata": {
    "collapsed": true
   },
   "outputs": [],
   "source": [
    "def bubble_sort_2(random_list):\n",
    "    for i in range( len(random_list)-1 ):\n",
    "        for j in range( 1, len(random_list) - i ):\n",
    "            if random_list[j-1] > random_list[j]:\n",
    "                temp = random_list[j-1]\n",
    "                random_list[j-1] = random_list[j]\n",
    "                random_list[j] = temp"
   ]
  },
  {
   "cell_type": "code",
   "execution_count": null,
   "metadata": {
    "collapsed": true
   },
   "outputs": [],
   "source": []
  }
 ],
 "metadata": {
  "kernelspec": {
   "display_name": "Python 3",
   "language": "python",
   "name": "python3"
  },
  "language_info": {
   "codemirror_mode": {
    "name": "ipython",
    "version": 3
   },
   "file_extension": ".py",
   "mimetype": "text/x-python",
   "name": "python",
   "nbconvert_exporter": "python",
   "pygments_lexer": "ipython3",
   "version": "3.5.2"
  }
 },
 "nbformat": 4,
 "nbformat_minor": 2
}
