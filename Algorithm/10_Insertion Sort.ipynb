{
 "cells": [
  {
   "cell_type": "markdown",
   "metadata": {},
   "source": [
    "오름차순 , 내림차순 정렬 "
   ]
  },
  {
   "cell_type": "code",
   "execution_count": 1,
   "metadata": {
    "collapsed": true
   },
   "outputs": [],
   "source": [
    "def find_min(num_list):\n",
    "    n = len(num_list)\n",
    "    index = 0\n",
    "    for i in range(1, n):\n",
    "        if num_list[i] < num_list[index]:\n",
    "            index = i\n",
    "    return index"
   ]
  },
  {
   "cell_type": "code",
   "execution_count": 2,
   "metadata": {
    "collapsed": true
   },
   "outputs": [],
   "source": [
    "def sort_list(num_list):\n",
    "    result = []\n",
    "    while num_list:\n",
    "        index = find_min(num_list)\n",
    "        value = num_list.pop(index)\n",
    "        result.append(value)\n",
    "    return result"
   ]
  },
  {
   "cell_type": "code",
   "execution_count": 3,
   "metadata": {
    "collapsed": true
   },
   "outputs": [],
   "source": [
    "n_list = [3,2,5,4,7,2]"
   ]
  },
  {
   "cell_type": "code",
   "execution_count": 4,
   "metadata": {},
   "outputs": [
    {
     "name": "stdout",
     "output_type": "stream",
     "text": [
      "[2, 2, 3, 4, 5, 7]\n"
     ]
    }
   ],
   "source": [
    "print(sort_list(n_list))"
   ]
  },
  {
   "cell_type": "code",
   "execution_count": 5,
   "metadata": {
    "collapsed": true
   },
   "outputs": [],
   "source": [
    "def norm_sort(num_list):\n",
    "    n = len(num_list)\n",
    "    for i in range(0, n-1):\n",
    "        index = i\n",
    "        for j in range(i + 1, n):\n",
    "            if num_list[j] < num_list[index]:\n",
    "                index = j\n",
    "        num_list[i], num_list[index] = num_list[index], num_list[i]"
   ]
  },
  {
   "cell_type": "code",
   "execution_count": 6,
   "metadata": {
    "collapsed": true
   },
   "outputs": [],
   "source": [
    "n_list = [3,2,5,4,7,2]"
   ]
  },
  {
   "cell_type": "code",
   "execution_count": 7,
   "metadata": {
    "collapsed": true
   },
   "outputs": [],
   "source": [
    "norm_sort(n_list)"
   ]
  },
  {
   "cell_type": "code",
   "execution_count": 8,
   "metadata": {},
   "outputs": [
    {
     "name": "stdout",
     "output_type": "stream",
     "text": [
      "[2, 2, 3, 4, 5, 7]\n"
     ]
    }
   ],
   "source": [
    "print(n_list)"
   ]
  },
  {
   "cell_type": "markdown",
   "metadata": {
    "collapsed": true
   },
   "source": [
    "# 일반적인 삽입 정렬"
   ]
  },
  {
   "cell_type": "code",
   "execution_count": 10,
   "metadata": {
    "collapsed": true
   },
   "outputs": [],
   "source": [
    "def sort_list(num_list):\n",
    "    n = len(num_list)\n",
    "    for i in range(1, n):\n",
    "        key = num_list[i]\n",
    "        j = i - 1\n",
    "        while j >= 0 and num_list[j] > key:\n",
    "            num_list[j + 1] = num_list[j]\n",
    "            j = j - 1 \n",
    "        num_list[j + 1] = key"
   ]
  },
  {
   "cell_type": "code",
   "execution_count": null,
   "metadata": {
    "collapsed": true
   },
   "outputs": [],
   "source": []
  }
 ],
 "metadata": {
  "kernelspec": {
   "display_name": "Python 3",
   "language": "python",
   "name": "python3"
  },
  "language_info": {
   "codemirror_mode": {
    "name": "ipython",
    "version": 3
   },
   "file_extension": ".py",
   "mimetype": "text/x-python",
   "name": "python",
   "nbconvert_exporter": "python",
   "pygments_lexer": "ipython3",
   "version": "3.5.2"
  }
 },
 "nbformat": 4,
 "nbformat_minor": 2
}
