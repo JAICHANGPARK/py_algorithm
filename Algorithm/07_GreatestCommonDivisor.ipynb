{
 "cells": [
  {
   "cell_type": "code",
   "execution_count": 3,
   "metadata": {
    "collapsed": true
   },
   "outputs": [],
   "source": [
    "def gcd(num1, num2):\n",
    "    # 두 수중에서 최솟값을 먼저 구한다. 구한 최소값을 i 변수에 넣는다.\n",
    "    i = min(num1,num1) \n",
    "    while True:\n",
    "        # 최소값은 값 1, 값2를 각각 나눠 나머지가 0인 즉 나누어 떨어지는 수가 있다면 최소값 i를 반환한다. \n",
    "        if (num1 % i == 0) and (num2 % i == 0):\n",
    "            return i \n",
    "        # 초기 최소값을 넣은 변수 i를 1뺀다.\n",
    "        i = i - 1"
   ]
  },
  {
   "cell_type": "code",
   "execution_count": 6,
   "metadata": {},
   "outputs": [
    {
     "name": "stdout",
     "output_type": "stream",
     "text": [
      "6\n"
     ]
    }
   ],
   "source": [
    "print(gcd(24,6))"
   ]
  },
  {
   "cell_type": "markdown",
   "metadata": {},
   "source": [
    "num % i == 0 은 나머지를 구하는 것이고 , 나누어 떨어진다는 의미를 가진다."
   ]
  },
  {
   "cell_type": "markdown",
   "metadata": {},
   "source": [
    "# Euclid(유클리드)의 최대공약수 성질 이용\n",
    "1. num1 과 num2의 최대 공약수는 num2, num1을 num2로 나눈 나머지 의 최대 공약수와 같다. \n",
    "2. 재귀 호출로 함수를 구성한다. ( 조건 : 어떤 수와 0의 최대 공약수는 자기의 자신)"
   ]
  },
  {
   "cell_type": "code",
   "execution_count": 7,
   "metadata": {
    "collapsed": true
   },
   "outputs": [],
   "source": [
    "def R_gcd(num1,num2):\n",
    "    if num2 == 0:\n",
    "        return num1\n",
    "    return R_gcd(num2, num1 % num2)"
   ]
  },
  {
   "cell_type": "code",
   "execution_count": 8,
   "metadata": {},
   "outputs": [
    {
     "name": "stdout",
     "output_type": "stream",
     "text": [
      "2\n"
     ]
    }
   ],
   "source": [
    "print(R_gcd(26,4))"
   ]
  }
 ],
 "metadata": {
  "kernelspec": {
   "display_name": "Python 3",
   "language": "python",
   "name": "python3"
  },
  "language_info": {
   "codemirror_mode": {
    "name": "ipython",
    "version": 3
   },
   "file_extension": ".py",
   "mimetype": "text/x-python",
   "name": "python",
   "nbconvert_exporter": "python",
   "pygments_lexer": "ipython3",
   "version": "3.5.1"
  }
 },
 "nbformat": 4,
 "nbformat_minor": 2
}
