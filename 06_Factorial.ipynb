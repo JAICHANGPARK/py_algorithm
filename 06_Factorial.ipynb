{
 "cells": [
  {
   "cell_type": "markdown",
   "metadata": {},
   "source": [
    "# factorial"
   ]
  },
  {
   "cell_type": "code",
   "execution_count": 2,
   "metadata": {
    "collapsed": true
   },
   "outputs": [],
   "source": [
    "def facto(num):\n",
    "    f = 1\n",
    "    for i in range(1, num + 1):\n",
    "        f = f * i\n",
    "    return f"
   ]
  },
  {
   "cell_type": "markdown",
   "metadata": {},
   "source": [
    "# recursion factorial \n",
    "\n",
    "- 재귀 호출은 특정 조건이 되면 멈추도록 설계 되어야 한다.\n",
    "- n! = n x ( n - 1 ) ! 수식을 이용하여 팩토리얼 재귀 호출을 구성"
   ]
  },
  {
   "cell_type": "code",
   "execution_count": 7,
   "metadata": {
    "collapsed": true
   },
   "outputs": [],
   "source": [
    "def R_facto(num):\n",
    "    # 1 이하의 값이면 종료한다. \n",
    "    if num <= 1: \n",
    "        return 1\n",
    "    return num * R_facto(num - 1)"
   ]
  },
  {
   "cell_type": "code",
   "execution_count": 8,
   "metadata": {},
   "outputs": [
    {
     "name": "stdout",
     "output_type": "stream",
     "text": [
      "3628800\n"
     ]
    }
   ],
   "source": [
    "print(R_facto(10))"
   ]
  },
  {
   "cell_type": "markdown",
   "metadata": {},
   "source": [
    "R_facto(10) \n",
    "1. 10 * R_facto(9)\n",
    "2. 9 * R_facto(8)\n",
    "3. 8 * R_facto(7)\n",
    "....\n",
    "R_facto(1)은 재귀 종료 조건으로 더이상 함수를 호출하지 않는다.\n"
   ]
  },
  {
   "cell_type": "markdown",
   "metadata": {},
   "source": [
    "1. 5! =\n",
    "2. = 5 * 4!\n",
    "3. = 4 * 3!\n",
    "4. = 3 * 2!\n",
    "5. = 2 * 1!"
   ]
  },
  {
   "cell_type": "code",
   "execution_count": null,
   "metadata": {
    "collapsed": true
   },
   "outputs": [],
   "source": []
  }
 ],
 "metadata": {
  "kernelspec": {
   "display_name": "Python 3",
   "language": "python",
   "name": "python3"
  },
  "language_info": {
   "codemirror_mode": {
    "name": "ipython",
    "version": 3
   },
   "file_extension": ".py",
   "mimetype": "text/x-python",
   "name": "python",
   "nbconvert_exporter": "python",
   "pygments_lexer": "ipython3",
   "version": "3.5.1"
  }
 },
 "nbformat": 4,
 "nbformat_minor": 2
}
