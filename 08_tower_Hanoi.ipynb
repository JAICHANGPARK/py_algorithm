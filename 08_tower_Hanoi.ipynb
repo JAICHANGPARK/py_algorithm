{
 "cells": [
  {
   "cell_type": "markdown",
   "metadata": {},
   "source": [
    "- 원반을 옮기기 위한 이동 순서를 알고리즘으로 구현 \n",
    "- 기둥이 3개인 하노이 탑 \n",
    "```\n",
    "```"
   ]
  },
  {
   "cell_type": "code",
   "execution_count": 4,
   "metadata": {
    "collapsed": true
   },
   "outputs": [],
   "source": [
    "def hanois(num, from_p, to_p, axis):\n",
    "    if num == 1:\n",
    "        print(from_p, \"->\", to_p)\n",
    "        return\n",
    "    hanois(num-1, from_p, axis, to_p)\n",
    "    print(from_p, \" ->> \", to_p)\n",
    "    hanois(num-1, axis, to_p, from_p)"
   ]
  },
  {
   "cell_type": "code",
   "execution_count": 5,
   "metadata": {},
   "outputs": [
    {
     "name": "stdout",
     "output_type": "stream",
     "text": [
      "1 -> 3\n",
      "None\n"
     ]
    }
   ],
   "source": [
    "print(hanois(1,1,3,2))"
   ]
  },
  {
   "cell_type": "code",
   "execution_count": 6,
   "metadata": {},
   "outputs": [
    {
     "name": "stdout",
     "output_type": "stream",
     "text": [
      "1 -> 2\n",
      "1  ->>  3\n",
      "2 -> 3\n",
      "None\n"
     ]
    }
   ],
   "source": [
    "print(hanois(2,1,3,2))"
   ]
  },
  {
   "cell_type": "code",
   "execution_count": 7,
   "metadata": {
    "collapsed": true
   },
   "outputs": [],
   "source": [
    "import turtle as t"
   ]
  },
  {
   "cell_type": "code",
   "execution_count": 8,
   "metadata": {
    "collapsed": true
   },
   "outputs": [],
   "source": [
    "def spirals(spiral_len):\n",
    "    if spiral_len <= 5:\n",
    "        return\n",
    "    t.forward(spiral_len)\n",
    "    t.right(90)\n",
    "    spirals(spiral_len - 5)"
   ]
  },
  {
   "cell_type": "code",
   "execution_count": 12,
   "metadata": {},
   "outputs": [],
   "source": [
    "t.speed(0)\n",
    "spirals(100)\n",
    "t.hideturtle()\n",
    "t.done()"
   ]
  },
  {
   "cell_type": "code",
   "execution_count": 14,
   "metadata": {
    "collapsed": true
   },
   "outputs": [],
   "source": [
    "def triangle_draw(length):\n",
    "    if length <= 10:\n",
    "        for i in range(0,3):\n",
    "            t.forward(length)\n",
    "            t.left(120)\n",
    "        return\n",
    "    new_len = length / 2\n",
    "    triangle_draw(new_len)\n",
    "    t.forward(new_len)\n",
    "    triangle_draw(new_len)\n",
    "    t.backward(new_len)\n",
    "    t.left(60)\n",
    "    t.forward(new_len)\n",
    "    t.right(60)\n",
    "    triangle_draw(new_len)\n",
    "    t.left(60)\n",
    "    t.backward(new_len)\n",
    "    t.right(60)"
   ]
  },
  {
   "cell_type": "code",
   "execution_count": 18,
   "metadata": {},
   "outputs": [],
   "source": [
    "t.speed(0)\n",
    "triangle_draw(200)\n",
    "t.hideturtle()\n",
    "t.done()"
   ]
  },
  {
   "cell_type": "code",
   "execution_count": 22,
   "metadata": {
    "collapsed": true
   },
   "outputs": [],
   "source": [
    "def draw_tree(length):\n",
    "    if length <= 5:\n",
    "        return\n",
    "    new_length = length * 0.7\n",
    "    t.forward(length)\n",
    "    t.right(20)\n",
    "    draw_tree(new_length)\n",
    "    t.left(40)\n",
    "    draw_tree(new_length)\n",
    "    t.right(20)\n",
    "    t.backward(length)"
   ]
  },
  {
   "cell_type": "code",
   "execution_count": 25,
   "metadata": {},
   "outputs": [],
   "source": [
    "t.speed(0)\n",
    "t.left(90)\n",
    "draw_tree(70)\n",
    "t.hideturtle()\n",
    "t.done()"
   ]
  },
  {
   "cell_type": "code",
   "execution_count": null,
   "metadata": {
    "collapsed": true
   },
   "outputs": [],
   "source": []
  }
 ],
 "metadata": {
  "kernelspec": {
   "display_name": "Python 3",
   "language": "python",
   "name": "python3"
  },
  "language_info": {
   "codemirror_mode": {
    "name": "ipython",
    "version": 3
   },
   "file_extension": ".py",
   "mimetype": "text/x-python",
   "name": "python",
   "nbconvert_exporter": "python",
   "pygments_lexer": "ipython3",
   "version": "3.5.1"
  }
 },
 "nbformat": 4,
 "nbformat_minor": 2
}
