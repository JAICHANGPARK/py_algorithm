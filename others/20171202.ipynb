{
 "cells": [
  {
   "cell_type": "code",
   "execution_count": 2,
   "metadata": {},
   "outputs": [],
   "source": [
    "import platform"
   ]
  },
  {
   "cell_type": "code",
   "execution_count": 3,
   "metadata": {},
   "outputs": [
    {
     "name": "stdout",
     "output_type": "stream",
     "text": [
      "('64bit', 'WindowsPE')\n"
     ]
    }
   ],
   "source": [
    "print(platform.architecture())"
   ]
  },
  {
   "cell_type": "code",
   "execution_count": 4,
   "metadata": {},
   "outputs": [],
   "source": [
    "import re"
   ]
  },
  {
   "cell_type": "code",
   "execution_count": 5,
   "metadata": {},
   "outputs": [],
   "source": [
    "import urllib.request"
   ]
  },
  {
   "cell_type": "code",
   "execution_count": 6,
   "metadata": {},
   "outputs": [],
   "source": [
    "url = \"http://www.itemmania.com/notice/view.html?pub=PORTAL&type=all&nowPage=1&id=1542\"\n",
    "html = urllib.request.urlopen(url)\n",
    "html_contents = str(html.read())"
   ]
  },
  {
   "cell_type": "code",
   "execution_count": 7,
   "metadata": {},
   "outputs": [],
   "source": [
    "id_results = re.findall(r\"([A-Za-z0-9]+\\*\\*\\*)\", html_contents)"
   ]
  },
  {
   "cell_type": "code",
   "execution_count": 8,
   "metadata": {},
   "outputs": [
    {
     "name": "stdout",
     "output_type": "stream",
     "text": [
      "['codo***', 'outb7***', 'dubba4***', 'multicuspi***', 'crownm***', 'triformo***', 'spania***', 'magazin***', 'presby***', 'trophody***', 'nontr***', 'enranck***', 'canc***', 'uncanker***', 'wrymo***', 'non***', 'luminat***', 'oblig***', 'anna***', 'hyperth***', 'toplabl***', 'dolce0***', 'rudals2***', 'jjw980***', 'elvlz***', 'skmid***', 'qkep***', 'kisslov***', 'maskman***', 'sungt***']\n"
     ]
    }
   ],
   "source": [
    "print(id_results)"
   ]
  },
  {
   "cell_type": "code",
   "execution_count": 9,
   "metadata": {},
   "outputs": [
    {
     "name": "stdout",
     "output_type": "stream",
     "text": [
      "codo***\n",
      "outb7***\n",
      "dubba4***\n",
      "multicuspi***\n",
      "crownm***\n",
      "triformo***\n",
      "spania***\n",
      "magazin***\n",
      "presby***\n",
      "trophody***\n",
      "nontr***\n",
      "enranck***\n",
      "canc***\n",
      "uncanker***\n",
      "wrymo***\n",
      "non***\n",
      "luminat***\n",
      "oblig***\n",
      "anna***\n",
      "hyperth***\n",
      "toplabl***\n",
      "dolce0***\n",
      "rudals2***\n",
      "jjw980***\n",
      "elvlz***\n",
      "skmid***\n",
      "qkep***\n",
      "kisslov***\n",
      "maskman***\n",
      "sungt***\n"
     ]
    }
   ],
   "source": [
    "for i in id_results:\n",
    "    print(i)"
   ]
  },
  {
   "cell_type": "code",
   "execution_count": 10,
   "metadata": {},
   "outputs": [],
   "source": [
    "url2 = \"http://finance.naver.com/item/main.nhn?code=005930\"\n",
    "html2 = urllib.request.urlopen(url2)\n",
    "html_contents2 = str(html2.read().decode(\"ms949\"))"
   ]
  },
  {
   "cell_type": "code",
   "execution_count": 11,
   "metadata": {},
   "outputs": [
    {
     "name": "stdout",
     "output_type": "stream",
     "text": [
      "[('<dl class=\"blind\">', '\\n\\t        <dt>종목 시세 정보</dt>\\n\\t        <dd>2017년 12월 01일 16시 10분 기준 장마감</dd>\\n\\t        <dd>종목명 삼성전자</dd>\\n\\t        <dd>종목코드 005930 코스피</dd>\\n\\t        <dd>현재가 2,542,000 전일대비 상승 2,000 플러스 0.08 퍼센트</dd>\\n\\t        <dd>전일가 2,540,000</dd>\\n\\t        <dd>시가 2,540,000</dd>\\n\\t        <dd>고가 2,589,000</dd>\\n\\t        <dd>상한가 3,302,000</dd>\\n\\t        <dd>저가 2,540,000</dd>\\n\\t        <dd>하한가 1,778,000</dd>\\n\\t        <dd>거래량 249,196</dd>\\n\\t        <dd>거래대금 636,642백만</dd>\\n        ', '</dl>'), ('<dl class=\"blind\">', '\\n                        <dt><strong>삼성전자</strong></dt>\\n                        <dd>오늘의시세 2,542,000 포인트</dd>\\n                        <dd>2,000 포인트 상승</dd>\\n                        <dd>0.08% 플러스</dd>\\n                ', '</dl>')]\n"
     ]
    }
   ],
   "source": [
    "stock_result = re.findall(\"(\\<dl class=\\\"blind\\\"\\>)([\\s\\S]+?)(\\<\\/dl\\>)\", html_contents2)\n",
    "print(stock_result)"
   ]
  },
  {
   "cell_type": "code",
   "execution_count": 16,
   "metadata": {},
   "outputs": [
    {
     "name": "stdout",
     "output_type": "stream",
     "text": [
      "주가 ('<dl class=\"blind\">', '\\n\\t        <dt>종목 시세 정보</dt>\\n\\t        <dd>2017년 12월 01일 16시 10분 기준 장마감</dd>\\n\\t        <dd>종목명 삼성전자</dd>\\n\\t        <dd>종목코드 005930 코스피</dd>\\n\\t        <dd>현재가 2,542,000 전일대비 상승 2,000 플러스 0.08 퍼센트</dd>\\n\\t        <dd>전일가 2,540,000</dd>\\n\\t        <dd>시가 2,540,000</dd>\\n\\t        <dd>고가 2,589,000</dd>\\n\\t        <dd>상한가 3,302,000</dd>\\n\\t        <dd>저가 2,540,000</dd>\\n\\t        <dd>하한가 1,778,000</dd>\\n\\t        <dd>거래량 249,196</dd>\\n\\t        <dd>거래대금 636,642백만</dd>\\n        ', '</dl>')\n",
      "\n",
      "\t        <dt>종목 시세 정보</dt>\n",
      "\t        <dd>2017년 12월 01일 16시 10분 기준 장마감</dd>\n",
      "\t        <dd>종목명 삼성전자</dd>\n",
      "\t        <dd>종목코드 005930 코스피</dd>\n",
      "\t        <dd>현재가 2,542,000 전일대비 상승 2,000 플러스 0.08 퍼센트</dd>\n",
      "\t        <dd>전일가 2,540,000</dd>\n",
      "\t        <dd>시가 2,540,000</dd>\n",
      "\t        <dd>고가 2,589,000</dd>\n",
      "\t        <dd>상한가 3,302,000</dd>\n",
      "\t        <dd>저가 2,540,000</dd>\n",
      "\t        <dd>하한가 1,778,000</dd>\n",
      "\t        <dd>거래량 249,196</dd>\n",
      "\t        <dd>거래대금 636,642백만</dd>\n",
      "        \n"
     ]
    }
   ],
   "source": [
    "samsung_stock = stock_result[0]\n",
    "print(\"주가\",samsung_stock)\n",
    "samsung_index = samsung_stock[1]\n",
    "print(samsung_index)"
   ]
  },
  {
   "cell_type": "code",
   "execution_count": 17,
   "metadata": {},
   "outputs": [
    {
     "name": "stdout",
     "output_type": "stream",
     "text": [
      "[('<dd>', '2017년 12월 01일 16시 10분 기준 장마감', '</dd>'), ('<dd>', '종목명 삼성전자', '</dd>'), ('<dd>', '종목코드 005930 코스피', '</dd>'), ('<dd>', '현재가 2,542,000 전일대비 상승 2,000 플러스 0.08 퍼센트', '</dd>'), ('<dd>', '전일가 2,540,000', '</dd>'), ('<dd>', '시가 2,540,000', '</dd>'), ('<dd>', '고가 2,589,000', '</dd>'), ('<dd>', '상한가 3,302,000', '</dd>'), ('<dd>', '저가 2,540,000', '</dd>'), ('<dd>', '하한가 1,778,000', '</dd>'), ('<dd>', '거래량 249,196', '</dd>'), ('<dd>', '거래대금 636,642백만', '</dd>')]\n"
     ]
    }
   ],
   "source": [
    "index_list = re.findall(\"(\\<dd\\>)([\\s\\S]+?)(\\<\\/dd\\>)\",samsung_index)\n",
    "print(index_list)"
   ]
  },
  {
   "cell_type": "code",
   "execution_count": 20,
   "metadata": {},
   "outputs": [
    {
     "name": "stdout",
     "output_type": "stream",
     "text": [
      "['2017년', '12월', '01일', '16시', '10분', '기준', '장마감']\n",
      "['종목명', '삼성전자']\n",
      "['종목코드', '005930', '코스피']\n",
      "['현재가', '2,542,000', '전일대비', '상승', '2,000', '플러스', '0.08', '퍼센트']\n",
      "['전일가', '2,540,000']\n",
      "['시가', '2,540,000']\n",
      "['고가', '2,589,000']\n",
      "['상한가', '3,302,000']\n",
      "['저가', '2,540,000']\n",
      "['하한가', '1,778,000']\n",
      "['거래량', '249,196']\n",
      "['거래대금', '636,642백만']\n"
     ]
    }
   ],
   "source": [
    "for i in index_list:\n",
    "    print(i[1].split())"
   ]
  },
  {
   "cell_type": "code",
   "execution_count": 21,
   "metadata": {},
   "outputs": [],
   "source": [
    "import tkinter\n",
    "root = tkinter.Tk()"
   ]
  },
  {
   "cell_type": "markdown",
   "metadata": {},
   "source": [
    "- 'from PyQt5.QtWidgets import *'와 같은 방식은 PyQt5라는 디렉터리의 QtWidgets 파일에 있는 모든 것 (*)을 import 하라는 의미"
   ]
  },
  {
   "cell_type": "code",
   "execution_count": 1,
   "metadata": {},
   "outputs": [],
   "source": [
    "import sys\n",
    "from PyQt5.QtWidgets import *"
   ]
  },
  {
   "cell_type": "code",
   "execution_count": null,
   "metadata": {},
   "outputs": [],
   "source": [
    "app = QApplication(sys.argv)\n",
    "print(sys.argv)\n",
    "label = QLabel(\"hello PyQt\")\n",
    "label.show()\n",
    "app.exec_()"
   ]
  },
  {
   "cell_type": "code",
   "execution_count": 24,
   "metadata": {},
   "outputs": [
    {
     "data": {
      "text/plain": [
       "0"
      ]
     },
     "execution_count": 24,
     "metadata": {},
     "output_type": "execute_result"
    }
   ],
   "source": [
    "app = QApplication(sys.argv)\n",
    "label = QPushButton(\"hello PyQt\")\n",
    "label.show()\n",
    "app.exec_()"
   ]
  },
  {
   "cell_type": "markdown",
   "metadata": {},
   "source": [
    "MyWindow 클래스의 생성자 부분을 살펴보면 먼저 super().__init__()을 호출하는데 이는 부모 클래스에 정의된 __init__()을 호출하는 것을 의미합니다. 이 예제에서는 MyWindow 클래스가 QMainWindow 클래스를 상속받았으므로 QMainWindow 클래스의 생성자인 __init__()을 호출하게 됩니다."
   ]
  },
  {
   "cell_type": "code",
   "execution_count": 4,
   "metadata": {},
   "outputs": [],
   "source": [
    "class MyWindow(QMainWindow):\n",
    "    def __init__(self):\n",
    "        super().__init__()\n",
    "        self.setWindowTitle(\"pythons gui\")\n",
    "        self.setGeometry(300,300,300,400) # setGeometry(int x, int y, int w, int h)\n",
    "        \n",
    "        button_01 = QPushButton(\"Click me\", self)\n",
    "        button_01.move(20,30)\n",
    "        \n",
    "        button_01.clicked.connect(self.button01_clicked)\n",
    "        \n",
    "    def button01_clicked(self):\n",
    "        QMessageBox.about(self, \"message\", \"clicked\")"
   ]
  },
  {
   "cell_type": "code",
   "execution_count": 5,
   "metadata": {},
   "outputs": [],
   "source": [
    "if __name__ == \"__main__\":\n",
    "    app = QApplication(sys.argv)\n",
    "    mywindow = MyWindow()\n",
    "    mywindow.show()\n",
    "    app.exec_()"
   ]
  },
  {
   "cell_type": "markdown",
   "metadata": {},
   "source": [
    "파이썬의 튜플은 어땠습니까? 튜플은 리스트의 []와 달리 ()를 사용했으며 수정이 가능한 리스트와 달리 수정할 수 없었습니다. 대신 리스트에 비해서 속도가 빠르다는 장점이 있었습니다. 그래서 원소를 한 번 넣은 후에 수정할 필요가 없으며 속도가 중요한 경우에 리스트 대신 튜플을 사용했습니다."
   ]
  },
  {
   "cell_type": "code",
   "execution_count": 2,
   "metadata": {},
   "outputs": [],
   "source": [
    "from pandas import Series, DataFrame"
   ]
  },
  {
   "cell_type": "code",
   "execution_count": 3,
   "metadata": {},
   "outputs": [],
   "source": [
    "import pandas"
   ]
  },
  {
   "cell_type": "code",
   "execution_count": 5,
   "metadata": {},
   "outputs": [
    {
     "name": "stdout",
     "output_type": "stream",
     "text": [
      "<class 'pandas.core.series.Series'>\n"
     ]
    }
   ],
   "source": [
    "print(pandas.Series)"
   ]
  },
  {
   "cell_type": "code",
   "execution_count": 6,
   "metadata": {},
   "outputs": [
    {
     "name": "stdout",
     "output_type": "stream",
     "text": [
      "0    92600\n",
      "1    92400\n",
      "2    92100\n",
      "3    94300\n",
      "4    92300\n",
      "dtype: int64\n"
     ]
    }
   ],
   "source": [
    "kakao = Series([92600,92400,92100,94300,92300])\n",
    "print(kakao)"
   ]
  },
  {
   "cell_type": "code",
   "execution_count": 7,
   "metadata": {},
   "outputs": [
    {
     "name": "stdout",
     "output_type": "stream",
     "text": [
      "2016-02-19    92600\n",
      "2016-02-18    92400\n",
      "2016-02-17    92100\n",
      "2016-02-16    94300\n",
      "2016-02-15    92300\n",
      "dtype: int64\n"
     ]
    }
   ],
   "source": [
    "kakao2 = Series([92600, 92400, 92100, 94300, 92300], index=['2016-02-19',\n",
    "                                                            '2016-02-18',\n",
    "                                                            '2016-02-17',\n",
    "                                                            '2016-02-16',\n",
    "                                                            '2016-02-15'])\n",
    "print(kakao2)"
   ]
  },
  {
   "cell_type": "code",
   "execution_count": 8,
   "metadata": {},
   "outputs": [
    {
     "name": "stdout",
     "output_type": "stream",
     "text": [
      "2016-02-19\n",
      "2016-02-18\n",
      "2016-02-17\n",
      "2016-02-16\n",
      "2016-02-15\n",
      "92600\n",
      "92400\n",
      "92100\n",
      "94300\n",
      "92300\n"
     ]
    }
   ],
   "source": [
    "for date in kakao2.index:\n",
    "    print(date)\n",
    "\n",
    "for ending_price in kakao2.values:\n",
    "    print(ending_price)"
   ]
  },
  {
   "cell_type": "code",
   "execution_count": 9,
   "metadata": {},
   "outputs": [],
   "source": [
    "mine   = Series([10, 20, 30], index=['naver', 'sk', 'kt'])\n",
    "friend = Series([10, 30, 20], index=['kt', 'naver', 'sk'])"
   ]
  },
  {
   "cell_type": "code",
   "execution_count": 11,
   "metadata": {},
   "outputs": [
    {
     "name": "stdout",
     "output_type": "stream",
     "text": [
      "kt       40\n",
      "naver    40\n",
      "sk       40\n",
      "dtype: int64\n"
     ]
    }
   ],
   "source": [
    "merge = mine + friend\n",
    "print(merge)"
   ]
  },
  {
   "cell_type": "markdown",
   "metadata": {},
   "source": [
    "DataFrame 객체를 생성하는 가장 쉬운 방법은 파이썬의 딕셔너리를 사용하는 것입니다. 딕셔너리를 통해 각 칼럼에 대한 데이터를 저장한 후 딕셔너리를 DataFrame 클래스의 생성자 인자로 넘겨주면 DataFrame 객체가 생성됩니다."
   ]
  },
  {
   "cell_type": "code",
   "execution_count": 12,
   "metadata": {},
   "outputs": [
    {
     "name": "stdout",
     "output_type": "stream",
     "text": [
      "   col0  col1  col2\n",
      "0     1    10   100\n",
      "1     2    20   200\n",
      "2     3    30   300\n",
      "3     4    40   400\n"
     ]
    }
   ],
   "source": [
    "raw_data = {'col0': [1, 2, 3, 4],\n",
    "            'col1': [10, 20, 30, 40],\n",
    "            'col2': [100, 200, 300, 400]}\n",
    "\n",
    "data = DataFrame(raw_data)\n",
    "print(data)"
   ]
  },
  {
   "cell_type": "code",
   "execution_count": 14,
   "metadata": {},
   "outputs": [
    {
     "name": "stdout",
     "output_type": "stream",
     "text": [
      "   close   high    low   open\n",
      "0  11900  12100  11600  11650\n",
      "1  11600  11800  11050  11100\n",
      "2  11000  11200  10900  11200\n",
      "3  11100  11100  10950  11100\n",
      "4  11050  11150  10900  11000\n"
     ]
    }
   ],
   "source": [
    "price = {'open':  [11650, 11100, 11200, 11100, 11000],\n",
    "           'high':  [12100, 11800, 11200, 11100, 11150],\n",
    "           'low' :  [11600, 11050, 10900, 10950, 10900],\n",
    "           'close': [11900, 11600, 11000, 11100, 11050]}\n",
    "\n",
    "daeshin_day = DataFrame(price)\n",
    "print(daeshin_day)"
   ]
  },
  {
   "cell_type": "code",
   "execution_count": 17,
   "metadata": {},
   "outputs": [
    {
     "name": "stdout",
     "output_type": "stream",
     "text": [
      "    open   high    low  close\n",
      "0  11650  12100  11600  11900\n",
      "1  11100  11800  11050  11600\n",
      "2  11200  11200  10900  11000\n",
      "3  11100  11100  10950  11100\n",
      "4  11000  11150  10900  11050\n"
     ]
    }
   ],
   "source": [
    "daeshin_day = DataFrame(price, columns=['open', 'high', 'low', 'close'])\n",
    "print(daeshin_day)"
   ]
  },
  {
   "cell_type": "code",
   "execution_count": 20,
   "metadata": {},
   "outputs": [
    {
     "name": "stdout",
     "output_type": "stream",
     "text": [
      "           open   high    low  close\n",
      "16.02.29  11650  12100  11600  11900\n",
      "16.02.26  11100  11800  11050  11600\n",
      "16.02.25  11200  11200  10900  11000\n",
      "16.02.24  11100  11100  10950  11100\n",
      "16.02.23  11000  11150  10900  11050\n"
     ]
    }
   ],
   "source": [
    "date = ['16.02.29', '16.02.26', '16.02.25', '16.02.24', '16.02.23']\n",
    "daeshin_day = DataFrame(price, columns=['open', 'high', 'low', 'close'], index=date)\n",
    "print(daeshin_day)"
   ]
  },
  {
   "cell_type": "code",
   "execution_count": 22,
   "metadata": {},
   "outputs": [
    {
     "name": "stdout",
     "output_type": "stream",
     "text": [
      "open     11100\n",
      "high     11100\n",
      "low      10950\n",
      "close    11100\n",
      "Name: 16.02.24, dtype: int64\n",
      "<class 'pandas.core.series.Series'>\n"
     ]
    }
   ],
   "source": [
    "day_data = daeshin_day.loc['16.02.24']\n",
    "print(day_data)\n",
    "print(type(day_data))"
   ]
  },
  {
   "cell_type": "code",
   "execution_count": 23,
   "metadata": {},
   "outputs": [
    {
     "name": "stdout",
     "output_type": "stream",
     "text": [
      "Index(['open', 'high', 'low', 'close'], dtype='object')\n",
      "Index(['16.02.29', '16.02.26', '16.02.25', '16.02.24', '16.02.23'], dtype='object')\n"
     ]
    }
   ],
   "source": [
    "print(daeshin_day.columns)\n",
    "print(daeshin_day.index)"
   ]
  },
  {
   "cell_type": "code",
   "execution_count": 4,
   "metadata": {},
   "outputs": [],
   "source": [
    "import pandas_datareader.data as web\n",
    "import datetime\n",
    "start = datetime.datetime(2017,11,25)\n",
    "end = datetime.datetime(2017,12,1)"
   ]
  },
  {
   "cell_type": "code",
   "execution_count": 5,
   "metadata": {},
   "outputs": [],
   "source": [
    "gs = web.DataReader(\"078930.KS\", \"yahoo\",start,end)"
   ]
  },
  {
   "cell_type": "code",
   "execution_count": 7,
   "metadata": {},
   "outputs": [
    {
     "name": "stdout",
     "output_type": "stream",
     "text": [
      "<class 'pandas.core.frame.DataFrame'>\n",
      "DatetimeIndex: 6 entries, 2017-11-24 to 2017-12-01\n",
      "Data columns (total 6 columns):\n",
      "Open         5 non-null float64\n",
      "High         5 non-null float64\n",
      "Low          5 non-null float64\n",
      "Close        5 non-null float64\n",
      "Adj Close    5 non-null float64\n",
      "Volume       5 non-null float64\n",
      "dtypes: float64(6)\n",
      "memory usage: 336.0 bytes\n"
     ]
    }
   ],
   "source": [
    "gs.info()"
   ]
  },
  {
   "cell_type": "markdown",
   "metadata": {},
   "source": [
    "DataFrame 객체를 반환한다."
   ]
  },
  {
   "cell_type": "code",
   "execution_count": 8,
   "metadata": {},
   "outputs": [
    {
     "name": "stdout",
     "output_type": "stream",
     "text": [
      "<class 'pandas.core.frame.DataFrame'>\n",
      "DatetimeIndex: 1959 entries, 2010-01-04 to 2017-12-01\n",
      "Data columns (total 6 columns):\n",
      "Open         1959 non-null float64\n",
      "High         1959 non-null float64\n",
      "Low          1959 non-null float64\n",
      "Close        1959 non-null float64\n",
      "Adj Close    1959 non-null float64\n",
      "Volume       1959 non-null int64\n",
      "dtypes: float64(5), int64(1)\n",
      "memory usage: 107.1 KB\n"
     ]
    }
   ],
   "source": [
    "gs = web.DataReader(\"078930.KS\", \"yahoo\")\n",
    "gs.info()"
   ]
  },
  {
   "cell_type": "code",
   "execution_count": 9,
   "metadata": {},
   "outputs": [],
   "source": [
    "import matplotlib.pyplot as plt"
   ]
  },
  {
   "cell_type": "code",
   "execution_count": 10,
   "metadata": {},
   "outputs": [
    {
     "data": {
      "image/png": "[encoded data removed]",
      "text/plain": [
       "<matplotlib.figure.Figure at 0x1e1943e4d30>"
      ]
     },
     "metadata": {},
     "output_type": "display_data"
    }
   ],
   "source": [
    "plt.plot(gs['Adj Close'])\n",
    "plt.show()"
   ]
  },
  {
   "cell_type": "code",
   "execution_count": 11,
   "metadata": {},
   "outputs": [
    {
     "data": {
      "text/plain": [
       "DatetimeIndex(['2010-01-04', '2010-01-05', '2010-01-06', '2010-01-07',\n",
       "               '2010-01-08', '2010-01-11', '2010-01-12', '2010-01-13',\n",
       "               '2010-01-14', '2010-01-15',\n",
       "               ...\n",
       "               '2017-11-20', '2017-11-21', '2017-11-22', '2017-11-23',\n",
       "               '2017-11-24', '2017-11-27', '2017-11-28', '2017-11-29',\n",
       "               '2017-11-30', '2017-12-01'],\n",
       "              dtype='datetime64[ns]', name='Date', length=1959, freq=None)"
      ]
     },
     "execution_count": 11,
     "metadata": {},
     "output_type": "execute_result"
    }
   ],
   "source": [
    "gs.index"
   ]
  },
  {
   "cell_type": "code",
   "execution_count": 13,
   "metadata": {},
   "outputs": [
    {
     "data": {
      "text/plain": [
       "[<matplotlib.lines.Line2D at 0x1e198a4f208>]"
      ]
     },
     "execution_count": 13,
     "metadata": {},
     "output_type": "execute_result"
    }
   ],
   "source": [
    "plt.plot(gs.index, gs['Adj Close'])"
   ]
  },
  {
   "cell_type": "code",
   "execution_count": 14,
   "metadata": {},
   "outputs": [
    {
     "data": {
      "image/png": "[encoded data removed]",
      "text/plain": [
       "<matplotlib.figure.Figure at 0x1e198c07048>"
      ]
     },
     "metadata": {},
     "output_type": "display_data"
    }
   ],
   "source": [
    "plt.show()"
   ]
  },
  {
   "cell_type": "code",
   "execution_count": 15,
   "metadata": {},
   "outputs": [
    {
     "data": {
      "text/html": [
       "<div>\n",
       "<style scoped>\n",
       "    .dataframe tbody tr th:only-of-type {\n",
       "        vertical-align: middle;\n",
       "    }\n",
       "\n",
       "    .dataframe tbody tr th {\n",
       "        vertical-align: top;\n",
       "    }\n",
       "\n",
       "    .dataframe thead th {\n",
       "        text-align: right;\n",
       "    }\n",
       "</style>\n",
       "<table border=\"1\" class=\"dataframe\">\n",
       "  <thead>\n",
       "    <tr style=\"text-align: right;\">\n",
       "      <th></th>\n",
       "      <th>Open</th>\n",
       "      <th>High</th>\n",
       "      <th>Low</th>\n",
       "      <th>Close</th>\n",
       "      <th>Adj Close</th>\n",
       "      <th>Volume</th>\n",
       "    </tr>\n",
       "    <tr>\n",
       "      <th>Date</th>\n",
       "      <th></th>\n",
       "      <th></th>\n",
       "      <th></th>\n",
       "      <th></th>\n",
       "      <th></th>\n",
       "      <th></th>\n",
       "    </tr>\n",
       "  </thead>\n",
       "  <tbody>\n",
       "    <tr>\n",
       "      <th>2016-02-26</th>\n",
       "      <td>54300.0</td>\n",
       "      <td>54500.0</td>\n",
       "      <td>53200.0</td>\n",
       "      <td>53300.0</td>\n",
       "      <td>51732.351563</td>\n",
       "      <td>159453</td>\n",
       "    </tr>\n",
       "    <tr>\n",
       "      <th>2016-02-29</th>\n",
       "      <td>53000.0</td>\n",
       "      <td>53900.0</td>\n",
       "      <td>52800.0</td>\n",
       "      <td>53000.0</td>\n",
       "      <td>51441.175781</td>\n",
       "      <td>154692</td>\n",
       "    </tr>\n",
       "    <tr>\n",
       "      <th>2016-03-02</th>\n",
       "      <td>53000.0</td>\n",
       "      <td>55200.0</td>\n",
       "      <td>53000.0</td>\n",
       "      <td>55100.0</td>\n",
       "      <td>53479.410156</td>\n",
       "      <td>229999</td>\n",
       "    </tr>\n",
       "    <tr>\n",
       "      <th>2016-03-03</th>\n",
       "      <td>55300.0</td>\n",
       "      <td>55800.0</td>\n",
       "      <td>54300.0</td>\n",
       "      <td>55000.0</td>\n",
       "      <td>53382.351563</td>\n",
       "      <td>217063</td>\n",
       "    </tr>\n",
       "    <tr>\n",
       "      <th>2016-03-04</th>\n",
       "      <td>54700.0</td>\n",
       "      <td>54800.0</td>\n",
       "      <td>53200.0</td>\n",
       "      <td>54200.0</td>\n",
       "      <td>52605.878906</td>\n",
       "      <td>237934</td>\n",
       "    </tr>\n",
       "  </tbody>\n",
       "</table>\n",
       "</div>"
      ],
      "text/plain": [
       "               Open     High      Low    Close     Adj Close  Volume\n",
       "Date                                                                \n",
       "2016-02-26  54300.0  54500.0  53200.0  53300.0  51732.351563  159453\n",
       "2016-02-29  53000.0  53900.0  52800.0  53000.0  51441.175781  154692\n",
       "2016-03-02  53000.0  55200.0  53000.0  55100.0  53479.410156  229999\n",
       "2016-03-03  55300.0  55800.0  54300.0  55000.0  53382.351563  217063\n",
       "2016-03-04  54700.0  54800.0  53200.0  54200.0  52605.878906  237934"
      ]
     },
     "execution_count": 15,
     "metadata": {},
     "output_type": "execute_result"
    }
   ],
   "source": [
    "gs = web.DataReader(\"078930.KS\", \"yahoo\", \"2014-01-01\", \"2016-03-06\")\n",
    "gs.tail()"
   ]
  },
  {
   "cell_type": "code",
   "execution_count": 17,
   "metadata": {},
   "outputs": [],
   "source": [
    "ma5 = gs['Adj Close'].rolling(window=5).mean()"
   ]
  },
  {
   "cell_type": "code",
   "execution_count": 20,
   "metadata": {},
   "outputs": [
    {
     "name": "stdout",
     "output_type": "stream",
     "text": [
      "Date\n",
      "2016-02-19    49024.410156\n",
      "2016-02-22    49111.762500\n",
      "2016-02-23    49558.233594\n",
      "2016-02-24    50121.175000\n",
      "2016-02-25    50703.527344\n",
      "2016-02-26    51227.645313\n",
      "2016-02-29    51732.351563\n",
      "2016-03-02    52178.821875\n",
      "2016-03-03    52469.998438\n",
      "2016-03-04    52528.233594\n",
      "Name: Adj Close, dtype: float64\n"
     ]
    }
   ],
   "source": [
    "type(ma5)\n",
    "print(ma5.tail(10))"
   ]
  },
  {
   "cell_type": "code",
   "execution_count": 21,
   "metadata": {},
   "outputs": [
    {
     "data": {
      "text/plain": [
       "Date\n",
       "2014-01-02    True\n",
       "2014-01-03    True\n",
       "2014-01-06    True\n",
       "2014-01-07    True\n",
       "2014-01-08    True\n",
       "2014-01-09    True\n",
       "2014-01-10    True\n",
       "2014-01-13    True\n",
       "2014-01-14    True\n",
       "2014-01-15    True\n",
       "2014-01-16    True\n",
       "2014-01-17    True\n",
       "2014-01-20    True\n",
       "2014-01-21    True\n",
       "2014-01-22    True\n",
       "2014-01-23    True\n",
       "2014-01-24    True\n",
       "2014-01-27    True\n",
       "2014-01-28    True\n",
       "2014-01-29    True\n",
       "2014-02-03    True\n",
       "2014-02-04    True\n",
       "2014-02-05    True\n",
       "2014-02-06    True\n",
       "2014-02-07    True\n",
       "2014-02-10    True\n",
       "2014-02-11    True\n",
       "2014-02-12    True\n",
       "2014-02-13    True\n",
       "2014-02-14    True\n",
       "              ... \n",
       "2016-01-19    True\n",
       "2016-01-20    True\n",
       "2016-01-21    True\n",
       "2016-01-22    True\n",
       "2016-01-25    True\n",
       "2016-01-26    True\n",
       "2016-01-27    True\n",
       "2016-01-28    True\n",
       "2016-01-29    True\n",
       "2016-02-01    True\n",
       "2016-02-02    True\n",
       "2016-02-03    True\n",
       "2016-02-04    True\n",
       "2016-02-05    True\n",
       "2016-02-11    True\n",
       "2016-02-12    True\n",
       "2016-02-15    True\n",
       "2016-02-16    True\n",
       "2016-02-17    True\n",
       "2016-02-18    True\n",
       "2016-02-19    True\n",
       "2016-02-22    True\n",
       "2016-02-23    True\n",
       "2016-02-24    True\n",
       "2016-02-25    True\n",
       "2016-02-26    True\n",
       "2016-02-29    True\n",
       "2016-03-02    True\n",
       "2016-03-03    True\n",
       "2016-03-04    True\n",
       "Name: Volume, Length: 535, dtype: bool"
      ]
     },
     "execution_count": 21,
     "metadata": {},
     "output_type": "execute_result"
    }
   ],
   "source": [
    "gs['Volume'] != 0"
   ]
  },
  {
   "cell_type": "code",
   "execution_count": 22,
   "metadata": {},
   "outputs": [
    {
     "data": {
      "text/html": [
       "<div>\n",
       "<style scoped>\n",
       "    .dataframe tbody tr th:only-of-type {\n",
       "        vertical-align: middle;\n",
       "    }\n",
       "\n",
       "    .dataframe tbody tr th {\n",
       "        vertical-align: top;\n",
       "    }\n",
       "\n",
       "    .dataframe thead th {\n",
       "        text-align: right;\n",
       "    }\n",
       "</style>\n",
       "<table border=\"1\" class=\"dataframe\">\n",
       "  <thead>\n",
       "    <tr style=\"text-align: right;\">\n",
       "      <th></th>\n",
       "      <th>Open</th>\n",
       "      <th>High</th>\n",
       "      <th>Low</th>\n",
       "      <th>Close</th>\n",
       "      <th>Adj Close</th>\n",
       "      <th>Volume</th>\n",
       "    </tr>\n",
       "    <tr>\n",
       "      <th>Date</th>\n",
       "      <th></th>\n",
       "      <th></th>\n",
       "      <th></th>\n",
       "      <th></th>\n",
       "      <th></th>\n",
       "      <th></th>\n",
       "    </tr>\n",
       "  </thead>\n",
       "  <tbody>\n",
       "    <tr>\n",
       "      <th>2016-02-26</th>\n",
       "      <td>54300.0</td>\n",
       "      <td>54500.0</td>\n",
       "      <td>53200.0</td>\n",
       "      <td>53300.0</td>\n",
       "      <td>51732.351563</td>\n",
       "      <td>159453</td>\n",
       "    </tr>\n",
       "    <tr>\n",
       "      <th>2016-02-29</th>\n",
       "      <td>53000.0</td>\n",
       "      <td>53900.0</td>\n",
       "      <td>52800.0</td>\n",
       "      <td>53000.0</td>\n",
       "      <td>51441.175781</td>\n",
       "      <td>154692</td>\n",
       "    </tr>\n",
       "    <tr>\n",
       "      <th>2016-03-02</th>\n",
       "      <td>53000.0</td>\n",
       "      <td>55200.0</td>\n",
       "      <td>53000.0</td>\n",
       "      <td>55100.0</td>\n",
       "      <td>53479.410156</td>\n",
       "      <td>229999</td>\n",
       "    </tr>\n",
       "    <tr>\n",
       "      <th>2016-03-03</th>\n",
       "      <td>55300.0</td>\n",
       "      <td>55800.0</td>\n",
       "      <td>54300.0</td>\n",
       "      <td>55000.0</td>\n",
       "      <td>53382.351563</td>\n",
       "      <td>217063</td>\n",
       "    </tr>\n",
       "    <tr>\n",
       "      <th>2016-03-04</th>\n",
       "      <td>54700.0</td>\n",
       "      <td>54800.0</td>\n",
       "      <td>53200.0</td>\n",
       "      <td>54200.0</td>\n",
       "      <td>52605.878906</td>\n",
       "      <td>237934</td>\n",
       "    </tr>\n",
       "  </tbody>\n",
       "</table>\n",
       "</div>"
      ],
      "text/plain": [
       "               Open     High      Low    Close     Adj Close  Volume\n",
       "Date                                                                \n",
       "2016-02-26  54300.0  54500.0  53200.0  53300.0  51732.351563  159453\n",
       "2016-02-29  53000.0  53900.0  52800.0  53000.0  51441.175781  154692\n",
       "2016-03-02  53000.0  55200.0  53000.0  55100.0  53479.410156  229999\n",
       "2016-03-03  55300.0  55800.0  54300.0  55000.0  53382.351563  217063\n",
       "2016-03-04  54700.0  54800.0  53200.0  54200.0  52605.878906  237934"
      ]
     },
     "execution_count": 22,
     "metadata": {},
     "output_type": "execute_result"
    }
   ],
   "source": [
    "new_gs = gs[gs['Volume'] !=0]\n",
    "new_gs.tail(5)"
   ]
  },
  {
   "cell_type": "code",
   "execution_count": 23,
   "metadata": {},
   "outputs": [],
   "source": [
    "ma5 = new_gs['Adj Close'].rolling(window=5).mean()"
   ]
  },
  {
   "cell_type": "code",
   "execution_count": 24,
   "metadata": {},
   "outputs": [
    {
     "data": {
      "text/plain": [
       "Date\n",
       "2016-02-19    49024.410156\n",
       "2016-02-22    49111.762500\n",
       "2016-02-23    49558.233594\n",
       "2016-02-24    50121.175000\n",
       "2016-02-25    50703.527344\n",
       "2016-02-26    51227.645313\n",
       "2016-02-29    51732.351563\n",
       "2016-03-02    52178.821875\n",
       "2016-03-03    52469.998438\n",
       "2016-03-04    52528.233594\n",
       "Name: Adj Close, dtype: float64"
      ]
     },
     "execution_count": 24,
     "metadata": {},
     "output_type": "execute_result"
    }
   ],
   "source": [
    "ma5.tail(10)"
   ]
  },
  {
   "cell_type": "code",
   "execution_count": 25,
   "metadata": {},
   "outputs": [],
   "source": [
    "new_gs.insert(len(new_gs.columns), \"MA5\", ma5)"
   ]
  },
  {
   "cell_type": "code",
   "execution_count": 26,
   "metadata": {},
   "outputs": [
    {
     "data": {
      "text/html": [
       "<div>\n",
       "<style scoped>\n",
       "    .dataframe tbody tr th:only-of-type {\n",
       "        vertical-align: middle;\n",
       "    }\n",
       "\n",
       "    .dataframe tbody tr th {\n",
       "        vertical-align: top;\n",
       "    }\n",
       "\n",
       "    .dataframe thead th {\n",
       "        text-align: right;\n",
       "    }\n",
       "</style>\n",
       "<table border=\"1\" class=\"dataframe\">\n",
       "  <thead>\n",
       "    <tr style=\"text-align: right;\">\n",
       "      <th></th>\n",
       "      <th>Open</th>\n",
       "      <th>High</th>\n",
       "      <th>Low</th>\n",
       "      <th>Close</th>\n",
       "      <th>Adj Close</th>\n",
       "      <th>Volume</th>\n",
       "      <th>MA5</th>\n",
       "    </tr>\n",
       "    <tr>\n",
       "      <th>Date</th>\n",
       "      <th></th>\n",
       "      <th></th>\n",
       "      <th></th>\n",
       "      <th></th>\n",
       "      <th></th>\n",
       "      <th></th>\n",
       "      <th></th>\n",
       "    </tr>\n",
       "  </thead>\n",
       "  <tbody>\n",
       "    <tr>\n",
       "      <th>2016-02-26</th>\n",
       "      <td>54300.0</td>\n",
       "      <td>54500.0</td>\n",
       "      <td>53200.0</td>\n",
       "      <td>53300.0</td>\n",
       "      <td>51732.351563</td>\n",
       "      <td>159453</td>\n",
       "      <td>51227.645313</td>\n",
       "    </tr>\n",
       "    <tr>\n",
       "      <th>2016-02-29</th>\n",
       "      <td>53000.0</td>\n",
       "      <td>53900.0</td>\n",
       "      <td>52800.0</td>\n",
       "      <td>53000.0</td>\n",
       "      <td>51441.175781</td>\n",
       "      <td>154692</td>\n",
       "      <td>51732.351563</td>\n",
       "    </tr>\n",
       "    <tr>\n",
       "      <th>2016-03-02</th>\n",
       "      <td>53000.0</td>\n",
       "      <td>55200.0</td>\n",
       "      <td>53000.0</td>\n",
       "      <td>55100.0</td>\n",
       "      <td>53479.410156</td>\n",
       "      <td>229999</td>\n",
       "      <td>52178.821875</td>\n",
       "    </tr>\n",
       "    <tr>\n",
       "      <th>2016-03-03</th>\n",
       "      <td>55300.0</td>\n",
       "      <td>55800.0</td>\n",
       "      <td>54300.0</td>\n",
       "      <td>55000.0</td>\n",
       "      <td>53382.351563</td>\n",
       "      <td>217063</td>\n",
       "      <td>52469.998438</td>\n",
       "    </tr>\n",
       "    <tr>\n",
       "      <th>2016-03-04</th>\n",
       "      <td>54700.0</td>\n",
       "      <td>54800.0</td>\n",
       "      <td>53200.0</td>\n",
       "      <td>54200.0</td>\n",
       "      <td>52605.878906</td>\n",
       "      <td>237934</td>\n",
       "      <td>52528.233594</td>\n",
       "    </tr>\n",
       "  </tbody>\n",
       "</table>\n",
       "</div>"
      ],
      "text/plain": [
       "               Open     High      Low    Close     Adj Close  Volume  \\\n",
       "Date                                                                   \n",
       "2016-02-26  54300.0  54500.0  53200.0  53300.0  51732.351563  159453   \n",
       "2016-02-29  53000.0  53900.0  52800.0  53000.0  51441.175781  154692   \n",
       "2016-03-02  53000.0  55200.0  53000.0  55100.0  53479.410156  229999   \n",
       "2016-03-03  55300.0  55800.0  54300.0  55000.0  53382.351563  217063   \n",
       "2016-03-04  54700.0  54800.0  53200.0  54200.0  52605.878906  237934   \n",
       "\n",
       "                     MA5  \n",
       "Date                      \n",
       "2016-02-26  51227.645313  \n",
       "2016-02-29  51732.351563  \n",
       "2016-03-02  52178.821875  \n",
       "2016-03-03  52469.998438  \n",
       "2016-03-04  52528.233594  "
      ]
     },
     "execution_count": 26,
     "metadata": {},
     "output_type": "execute_result"
    }
   ],
   "source": [
    "new_gs.tail(5)"
   ]
  },
  {
   "cell_type": "code",
   "execution_count": 27,
   "metadata": {},
   "outputs": [],
   "source": [
    "ma20 = new_gs['Adj Close'].rolling(window=20).mean()\n",
    "ma60 = new_gs['Adj Close'].rolling(window=60).mean()\n",
    "ma120 = new_gs['Adj Close'].rolling(window=120).mean()"
   ]
  },
  {
   "cell_type": "code",
   "execution_count": 29,
   "metadata": {},
   "outputs": [
    {
     "ename": "ValueError",
     "evalue": "cannot insert MA20, already exists",
     "output_type": "error",
     "traceback": [
      "\u001b[1;31m---------------------------------------------------------------------------\u001b[0m",
      "\u001b[1;31mValueError\u001b[0m                                Traceback (most recent call last)",
      "\u001b[1;32m<ipython-input-29-4cda9bb7983d>\u001b[0m in \u001b[0;36m<module>\u001b[1;34m()\u001b[0m\n\u001b[1;32m----> 1\u001b[1;33m \u001b[0mnew_gs\u001b[0m\u001b[1;33m.\u001b[0m\u001b[0minsert\u001b[0m\u001b[1;33m(\u001b[0m\u001b[0mlen\u001b[0m\u001b[1;33m(\u001b[0m\u001b[0mnew_gs\u001b[0m\u001b[1;33m.\u001b[0m\u001b[0mcolumns\u001b[0m\u001b[1;33m)\u001b[0m\u001b[1;33m,\u001b[0m \u001b[1;34m\"MA20\"\u001b[0m\u001b[1;33m,\u001b[0m \u001b[0mma20\u001b[0m\u001b[1;33m)\u001b[0m\u001b[1;33m\u001b[0m\u001b[0m\n\u001b[0m\u001b[0;32m      2\u001b[0m \u001b[0mnew_gs\u001b[0m\u001b[1;33m.\u001b[0m\u001b[0minsert\u001b[0m\u001b[1;33m(\u001b[0m\u001b[0mlen\u001b[0m\u001b[1;33m(\u001b[0m\u001b[0mnew_gs\u001b[0m\u001b[1;33m.\u001b[0m\u001b[0mcolumns\u001b[0m\u001b[1;33m)\u001b[0m\u001b[1;33m,\u001b[0m \u001b[1;34m\"MA60\"\u001b[0m\u001b[1;33m,\u001b[0m \u001b[0mma60\u001b[0m\u001b[1;33m)\u001b[0m\u001b[1;33m\u001b[0m\u001b[0m\n\u001b[0;32m      3\u001b[0m \u001b[0mnew_gs\u001b[0m\u001b[1;33m.\u001b[0m\u001b[0minsert\u001b[0m\u001b[1;33m(\u001b[0m\u001b[0mlen\u001b[0m\u001b[1;33m(\u001b[0m\u001b[0mnew_gs\u001b[0m\u001b[1;33m.\u001b[0m\u001b[0mcolumns\u001b[0m\u001b[1;33m)\u001b[0m\u001b[1;33m,\u001b[0m \u001b[1;34m\"MA120\"\u001b[0m\u001b[1;33m,\u001b[0m \u001b[0mma120\u001b[0m\u001b[1;33m)\u001b[0m\u001b[1;33m\u001b[0m\u001b[0m\n\u001b[0;32m      4\u001b[0m \u001b[0mnew_gs\u001b[0m\u001b[1;33m.\u001b[0m\u001b[0mtail\u001b[0m\u001b[1;33m(\u001b[0m\u001b[1;36m5\u001b[0m\u001b[1;33m)\u001b[0m\u001b[1;33m\u001b[0m\u001b[0m\n",
      "\u001b[1;32mc:\\users\\2e313jcp\\appdata\\local\\programs\\python\\python35\\lib\\site-packages\\pandas\\core\\frame.py\u001b[0m in \u001b[0;36minsert\u001b[1;34m(self, loc, column, value, allow_duplicates)\u001b[0m\n\u001b[0;32m   2611\u001b[0m         \u001b[0mvalue\u001b[0m \u001b[1;33m=\u001b[0m \u001b[0mself\u001b[0m\u001b[1;33m.\u001b[0m\u001b[0m_sanitize_column\u001b[0m\u001b[1;33m(\u001b[0m\u001b[0mcolumn\u001b[0m\u001b[1;33m,\u001b[0m \u001b[0mvalue\u001b[0m\u001b[1;33m,\u001b[0m \u001b[0mbroadcast\u001b[0m\u001b[1;33m=\u001b[0m\u001b[1;32mFalse\u001b[0m\u001b[1;33m)\u001b[0m\u001b[1;33m\u001b[0m\u001b[0m\n\u001b[0;32m   2612\u001b[0m         self._data.insert(loc, column, value,\n\u001b[1;32m-> 2613\u001b[1;33m                           allow_duplicates=allow_duplicates)\n\u001b[0m\u001b[0;32m   2614\u001b[0m \u001b[1;33m\u001b[0m\u001b[0m\n\u001b[0;32m   2615\u001b[0m     \u001b[1;32mdef\u001b[0m \u001b[0massign\u001b[0m\u001b[1;33m(\u001b[0m\u001b[0mself\u001b[0m\u001b[1;33m,\u001b[0m \u001b[1;33m**\u001b[0m\u001b[0mkwargs\u001b[0m\u001b[1;33m)\u001b[0m\u001b[1;33m:\u001b[0m\u001b[1;33m\u001b[0m\u001b[0m\n",
      "\u001b[1;32mc:\\users\\2e313jcp\\appdata\\local\\programs\\python\\python35\\lib\\site-packages\\pandas\\core\\internals.py\u001b[0m in \u001b[0;36minsert\u001b[1;34m(self, loc, item, value, allow_duplicates)\u001b[0m\n\u001b[0;32m   4056\u001b[0m         \u001b[1;32mif\u001b[0m \u001b[1;32mnot\u001b[0m \u001b[0mallow_duplicates\u001b[0m \u001b[1;32mand\u001b[0m \u001b[0mitem\u001b[0m \u001b[1;32min\u001b[0m \u001b[0mself\u001b[0m\u001b[1;33m.\u001b[0m\u001b[0mitems\u001b[0m\u001b[1;33m:\u001b[0m\u001b[1;33m\u001b[0m\u001b[0m\n\u001b[0;32m   4057\u001b[0m             \u001b[1;31m# Should this be a different kind of error??\u001b[0m\u001b[1;33m\u001b[0m\u001b[1;33m\u001b[0m\u001b[0m\n\u001b[1;32m-> 4058\u001b[1;33m             \u001b[1;32mraise\u001b[0m \u001b[0mValueError\u001b[0m\u001b[1;33m(\u001b[0m\u001b[1;34m'cannot insert {}, already exists'\u001b[0m\u001b[1;33m.\u001b[0m\u001b[0mformat\u001b[0m\u001b[1;33m(\u001b[0m\u001b[0mitem\u001b[0m\u001b[1;33m)\u001b[0m\u001b[1;33m)\u001b[0m\u001b[1;33m\u001b[0m\u001b[0m\n\u001b[0m\u001b[0;32m   4059\u001b[0m \u001b[1;33m\u001b[0m\u001b[0m\n\u001b[0;32m   4060\u001b[0m         \u001b[1;32mif\u001b[0m \u001b[1;32mnot\u001b[0m \u001b[0misinstance\u001b[0m\u001b[1;33m(\u001b[0m\u001b[0mloc\u001b[0m\u001b[1;33m,\u001b[0m \u001b[0mint\u001b[0m\u001b[1;33m)\u001b[0m\u001b[1;33m:\u001b[0m\u001b[1;33m\u001b[0m\u001b[0m\n",
      "\u001b[1;31mValueError\u001b[0m: cannot insert MA20, already exists"
     ]
    }
   ],
   "source": [
    "new_gs.insert(len(new_gs.columns), \"MA20\", ma20)\n",
    "new_gs.insert(len(new_gs.columns), \"MA60\", ma60)\n",
    "new_gs.insert(len(new_gs.columns), \"MA120\", ma120)"
   ]
  },
  {
   "cell_type": "code",
   "execution_count": 30,
   "metadata": {},
   "outputs": [
    {
     "data": {
      "text/html": [
       "<div>\n",
       "<style scoped>\n",
       "    .dataframe tbody tr th:only-of-type {\n",
       "        vertical-align: middle;\n",
       "    }\n",
       "\n",
       "    .dataframe tbody tr th {\n",
       "        vertical-align: top;\n",
       "    }\n",
       "\n",
       "    .dataframe thead th {\n",
       "        text-align: right;\n",
       "    }\n",
       "</style>\n",
       "<table border=\"1\" class=\"dataframe\">\n",
       "  <thead>\n",
       "    <tr style=\"text-align: right;\">\n",
       "      <th></th>\n",
       "      <th>Open</th>\n",
       "      <th>High</th>\n",
       "      <th>Low</th>\n",
       "      <th>Close</th>\n",
       "      <th>Adj Close</th>\n",
       "      <th>Volume</th>\n",
       "      <th>MA5</th>\n",
       "      <th>MA20</th>\n",
       "      <th>MA60</th>\n",
       "      <th>MA120</th>\n",
       "    </tr>\n",
       "    <tr>\n",
       "      <th>Date</th>\n",
       "      <th></th>\n",
       "      <th></th>\n",
       "      <th></th>\n",
       "      <th></th>\n",
       "      <th></th>\n",
       "      <th></th>\n",
       "      <th></th>\n",
       "      <th></th>\n",
       "      <th></th>\n",
       "      <th></th>\n",
       "    </tr>\n",
       "  </thead>\n",
       "  <tbody>\n",
       "    <tr>\n",
       "      <th>2016-02-26</th>\n",
       "      <td>54300.0</td>\n",
       "      <td>54500.0</td>\n",
       "      <td>53200.0</td>\n",
       "      <td>53300.0</td>\n",
       "      <td>51732.351563</td>\n",
       "      <td>159453</td>\n",
       "      <td>51227.645313</td>\n",
       "      <td>49521.836719</td>\n",
       "      <td>48687.939583</td>\n",
       "      <td>47926.027865</td>\n",
       "    </tr>\n",
       "    <tr>\n",
       "      <th>2016-02-29</th>\n",
       "      <td>53000.0</td>\n",
       "      <td>53900.0</td>\n",
       "      <td>52800.0</td>\n",
       "      <td>53000.0</td>\n",
       "      <td>51441.175781</td>\n",
       "      <td>154692</td>\n",
       "      <td>51732.351563</td>\n",
       "      <td>49747.498438</td>\n",
       "      <td>48707.351367</td>\n",
       "      <td>47982.645508</td>\n",
       "    </tr>\n",
       "    <tr>\n",
       "      <th>2016-03-02</th>\n",
       "      <td>53000.0</td>\n",
       "      <td>55200.0</td>\n",
       "      <td>53000.0</td>\n",
       "      <td>55100.0</td>\n",
       "      <td>53479.410156</td>\n",
       "      <td>229999</td>\n",
       "      <td>52178.821875</td>\n",
       "      <td>50028.968945</td>\n",
       "      <td>48781.763151</td>\n",
       "      <td>48059.483757</td>\n",
       "    </tr>\n",
       "    <tr>\n",
       "      <th>2016-03-03</th>\n",
       "      <td>55300.0</td>\n",
       "      <td>55800.0</td>\n",
       "      <td>54300.0</td>\n",
       "      <td>55000.0</td>\n",
       "      <td>53382.351563</td>\n",
       "      <td>217063</td>\n",
       "      <td>52469.998438</td>\n",
       "      <td>50252.204297</td>\n",
       "      <td>48835.145508</td>\n",
       "      <td>48137.130827</td>\n",
       "    </tr>\n",
       "    <tr>\n",
       "      <th>2016-03-04</th>\n",
       "      <td>54700.0</td>\n",
       "      <td>54800.0</td>\n",
       "      <td>53200.0</td>\n",
       "      <td>54200.0</td>\n",
       "      <td>52605.878906</td>\n",
       "      <td>237934</td>\n",
       "      <td>52528.233594</td>\n",
       "      <td>50397.792383</td>\n",
       "      <td>48883.674870</td>\n",
       "      <td>48213.969043</td>\n",
       "    </tr>\n",
       "  </tbody>\n",
       "</table>\n",
       "</div>"
      ],
      "text/plain": [
       "               Open     High      Low    Close     Adj Close  Volume  \\\n",
       "Date                                                                   \n",
       "2016-02-26  54300.0  54500.0  53200.0  53300.0  51732.351563  159453   \n",
       "2016-02-29  53000.0  53900.0  52800.0  53000.0  51441.175781  154692   \n",
       "2016-03-02  53000.0  55200.0  53000.0  55100.0  53479.410156  229999   \n",
       "2016-03-03  55300.0  55800.0  54300.0  55000.0  53382.351563  217063   \n",
       "2016-03-04  54700.0  54800.0  53200.0  54200.0  52605.878906  237934   \n",
       "\n",
       "                     MA5          MA20          MA60         MA120  \n",
       "Date                                                                \n",
       "2016-02-26  51227.645313  49521.836719  48687.939583  47926.027865  \n",
       "2016-02-29  51732.351563  49747.498438  48707.351367  47982.645508  \n",
       "2016-03-02  52178.821875  50028.968945  48781.763151  48059.483757  \n",
       "2016-03-03  52469.998438  50252.204297  48835.145508  48137.130827  \n",
       "2016-03-04  52528.233594  50397.792383  48883.674870  48213.969043  "
      ]
     },
     "execution_count": 30,
     "metadata": {},
     "output_type": "execute_result"
    }
   ],
   "source": [
    "new_gs.tail(5)"
   ]
  },
  {
   "cell_type": "code",
   "execution_count": 31,
   "metadata": {},
   "outputs": [
    {
     "data": {
      "text/plain": [
       "DatetimeIndex(['2014-01-02', '2014-01-03', '2014-01-06', '2014-01-07',\n",
       "               '2014-01-08', '2014-01-09', '2014-01-10', '2014-01-13',\n",
       "               '2014-01-14', '2014-01-15',\n",
       "               ...\n",
       "               '2016-02-19', '2016-02-22', '2016-02-23', '2016-02-24',\n",
       "               '2016-02-25', '2016-02-26', '2016-02-29', '2016-03-02',\n",
       "               '2016-03-03', '2016-03-04'],\n",
       "              dtype='datetime64[ns]', name='Date', length=534, freq=None)"
      ]
     },
     "execution_count": 31,
     "metadata": {},
     "output_type": "execute_result"
    }
   ],
   "source": [
    "new_gs.index"
   ]
  },
  {
   "cell_type": "code",
   "execution_count": 32,
   "metadata": {},
   "outputs": [
    {
     "data": {
      "text/plain": [
       "[<matplotlib.lines.Line2D at 0x1e19dd129e8>]"
      ]
     },
     "execution_count": 32,
     "metadata": {},
     "output_type": "execute_result"
    }
   ],
   "source": [
    "plt.plot(new_gs.index, new_gs['Adj Close'], label=\"Adj Close\")"
   ]
  },
  {
   "cell_type": "code",
   "execution_count": 33,
   "metadata": {},
   "outputs": [
    {
     "data": {
      "text/plain": [
       "[<matplotlib.lines.Line2D at 0x1e199059588>]"
      ]
     },
     "execution_count": 33,
     "metadata": {},
     "output_type": "execute_result"
    }
   ],
   "source": [
    "plt.plot(new_gs.index, new_gs['MA5'], label=\"MA5\")"
   ]
  },
  {
   "cell_type": "code",
   "execution_count": 34,
   "metadata": {},
   "outputs": [
    {
     "data": {
      "text/plain": [
       "[<matplotlib.lines.Line2D at 0x1e19dd257b8>]"
      ]
     },
     "execution_count": 34,
     "metadata": {},
     "output_type": "execute_result"
    }
   ],
   "source": [
    "plt.plot(new_gs.index, new_gs['MA20'], label=\"MA20\")"
   ]
  },
  {
   "cell_type": "code",
   "execution_count": 35,
   "metadata": {},
   "outputs": [
    {
     "data": {
      "text/plain": [
       "[<matplotlib.lines.Line2D at 0x1e19dd25f60>]"
      ]
     },
     "execution_count": 35,
     "metadata": {},
     "output_type": "execute_result"
    }
   ],
   "source": [
    "plt.plot(new_gs.index, new_gs['MA60'], label=\"MA60\")"
   ]
  },
  {
   "cell_type": "code",
   "execution_count": 36,
   "metadata": {},
   "outputs": [
    {
     "data": {
      "text/plain": [
       "[<matplotlib.lines.Line2D at 0x1e19dd2d588>]"
      ]
     },
     "execution_count": 36,
     "metadata": {},
     "output_type": "execute_result"
    }
   ],
   "source": [
    "plt.plot(new_gs.index, new_gs['MA120'], label=\"MA120\")"
   ]
  },
  {
   "cell_type": "code",
   "execution_count": 37,
   "metadata": {},
   "outputs": [
    {
     "data": {
      "text/plain": [
       "<matplotlib.legend.Legend at 0x1e19dcf1e80>"
      ]
     },
     "execution_count": 37,
     "metadata": {},
     "output_type": "execute_result"
    }
   ],
   "source": [
    "plt.legend(loc='best')"
   ]
  },
  {
   "cell_type": "code",
   "execution_count": 38,
   "metadata": {},
   "outputs": [],
   "source": [
    "plt.grid()"
   ]
  },
  {
   "cell_type": "code",
   "execution_count": 39,
   "metadata": {},
   "outputs": [
    {
     "data": {
      "image/png": "[encoded data removed]",
      "text/plain": [
       "<matplotlib.figure.Figure at 0x1e19dcf1860>"
      ]
     },
     "metadata": {},
     "output_type": "display_data"
    }
   ],
   "source": [
    "plt.show()"
   ]
  },
  {
   "cell_type": "code",
   "execution_count": null,
   "metadata": {},
   "outputs": [],
   "source": []
  }
 ],
 "metadata": {
  "kernelspec": {
   "display_name": "Python 3",
   "language": "python",
   "name": "python3"
  },
  "language_info": {
   "codemirror_mode": {
    "name": "ipython",
    "version": 3
   },
   "file_extension": ".py",
   "mimetype": "text/x-python",
   "name": "python",
   "nbconvert_exporter": "python",
   "pygments_lexer": "ipython3",
   "version": "3.5.2"
  }
 },
 "nbformat": 4,
 "nbformat_minor": 2
}
