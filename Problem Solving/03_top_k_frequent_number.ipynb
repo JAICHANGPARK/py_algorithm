{
 "cells": [
  {
   "cell_type": "markdown",
   "metadata": {},
   "source": [
    "주사위를 굴려서 나온 숫자를 리스트에 순서대로 적은 값과 k를 입력받았을 때,\n",
    "리스트에 자주 출현한 k개의 숫자를 리턴하는 코드를 작성해보세요.\n",
    "예를들어, 주사위 던진 결과가 [3,2,3,1,2,5,3,6,2,4]이고, k가 2이면,\n",
    "2가 세번, 3이 세번으로 자주 출현한 k (k=2)개의 숫자이므로 [2,3]을 출력합니다."
   ]
  },
  {
   "cell_type": "code",
   "execution_count": 21,
   "metadata": {},
   "outputs": [],
   "source": [
    "def top_k_frequent_number(nums, k):\n",
    "    num_map = {1:0, 2:0, 3:0, 4:0, 5:0, 6:0}\n",
    "    \n",
    "    for num in nums:\n",
    "        num_map[num] += 1\n",
    "    for num in nums:\n",
    "        print(num_map[num])\n",
    "        \n",
    "    ret = []\n",
    "    \n",
    "    while k > 0:\n",
    "        max_freq = 0\n",
    "        max_key = 0\n",
    "        for key in num_map:\n",
    "            if num_map[key] > max_freq:\n",
    "                max_freq = num_map[key]\n",
    "                max_key = key\n",
    "        \n",
    "        ret.append(max_key)\n",
    "        del num_map[max_key]\n",
    "        k = k -1\n",
    "    return ret"
   ]
  },
  {
   "cell_type": "code",
   "execution_count": 22,
   "metadata": {},
   "outputs": [
    {
     "name": "stdout",
     "output_type": "stream",
     "text": [
      "3\n",
      "3\n",
      "3\n",
      "1\n",
      "3\n",
      "1\n",
      "3\n",
      "1\n",
      "3\n",
      "1\n",
      "[2, 3]\n"
     ]
    }
   ],
   "source": [
    "print(top_k_frequent_number([3,2,3,1,2,5,3,6,2,4],2))"
   ]
  },
  {
   "cell_type": "code",
   "execution_count": 23,
   "metadata": {},
   "outputs": [
    {
     "name": "stdout",
     "output_type": "stream",
     "text": [
      "3\n",
      "3\n",
      "3\n",
      "2\n",
      "2\n",
      "2\n",
      "2\n",
      "2\n",
      "2\n",
      "[1, 2, 3]\n"
     ]
    }
   ],
   "source": [
    "print(top_k_frequent_number([1,1,1,2,2,3,3,4,4],3))"
   ]
  },
  {
   "cell_type": "code",
   "execution_count": 14,
   "metadata": {},
   "outputs": [],
   "source": [
    "num_map = {1:10, 2:0, 3:0, 4:0, 5:0, 6:0}"
   ]
  },
  {
   "cell_type": "code",
   "execution_count": 15,
   "metadata": {},
   "outputs": [
    {
     "data": {
      "text/plain": [
       "10"
      ]
     },
     "execution_count": 15,
     "metadata": {},
     "output_type": "execute_result"
    }
   ],
   "source": [
    "num_map[1]"
   ]
  },
  {
   "cell_type": "code",
   "execution_count": 20,
   "metadata": {},
   "outputs": [
    {
     "name": "stdout",
     "output_type": "stream",
     "text": [
      "1\n",
      "2\n",
      "3\n",
      "4\n",
      "5\n",
      "6\n"
     ]
    }
   ],
   "source": [
    "for key in num_map:\n",
    "    print(key)"
   ]
  },
  {
   "cell_type": "code",
   "execution_count": null,
   "metadata": {},
   "outputs": [],
   "source": []
  }
 ],
 "metadata": {
  "kernelspec": {
   "display_name": "Python 3",
   "language": "python",
   "name": "python3"
  },
  "language_info": {
   "codemirror_mode": {
    "name": "ipython",
    "version": 3
   },
   "file_extension": ".py",
   "mimetype": "text/x-python",
   "name": "python",
   "nbconvert_exporter": "python",
   "pygments_lexer": "ipython3",
   "version": "3.6.5"
  }
 },
 "nbformat": 4,
 "nbformat_minor": 2
}
