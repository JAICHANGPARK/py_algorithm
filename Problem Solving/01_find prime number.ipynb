{
 "cells": [
  {
   "cell_type": "markdown",
   "metadata": {},
   "source": [
    "## 자연수 n이 소수인지 판별하기"
   ]
  },
  {
   "cell_type": "code",
   "execution_count": 25,
   "metadata": {},
   "outputs": [],
   "source": [
    "def check_prime(n):\n",
    "    i = 2\n",
    "    while i < n: # i 가 n 보다 크면 루프 탈출 \n",
    "        if n % i == 0: # 나머지가 0이라면 합성수라는 의미\n",
    "            break\n",
    "        i = i + 1\n",
    "        #print(i)\n",
    "        \n",
    "    if i == n:\n",
    "        print(\"{0}는 소수\".format(n)) # 입력값과 반복문의 i 값이 이 같으면 소수\n",
    "    else:\n",
    "        print(\"{0}는 소수가 아님\".format(n)) # 입력값과 반복문의 i 값이 이 같으면 소수\n",
    "        "
   ]
  },
  {
   "cell_type": "code",
   "execution_count": 26,
   "metadata": {},
   "outputs": [
    {
     "name": "stdout",
     "output_type": "stream",
     "text": [
      "10는 소수가 아님\n"
     ]
    }
   ],
   "source": [
    "check_prime(10)"
   ]
  },
  {
   "cell_type": "code",
   "execution_count": 27,
   "metadata": {
    "scrolled": true
   },
   "outputs": [
    {
     "name": "stdout",
     "output_type": "stream",
     "text": [
      "2는 소수\n"
     ]
    }
   ],
   "source": [
    "check_prime(2)"
   ]
  },
  {
   "cell_type": "code",
   "execution_count": 28,
   "metadata": {},
   "outputs": [
    {
     "name": "stdout",
     "output_type": "stream",
     "text": [
      "5는 소수\n"
     ]
    }
   ],
   "source": [
    "check_prime(5)"
   ]
  },
  {
   "cell_type": "code",
   "execution_count": 29,
   "metadata": {},
   "outputs": [
    {
     "name": "stdout",
     "output_type": "stream",
     "text": [
      "100는 소수가 아님\n"
     ]
    }
   ],
   "source": [
    "check_prime(100)"
   ]
  },
  {
   "cell_type": "code",
   "execution_count": 30,
   "metadata": {},
   "outputs": [
    {
     "name": "stdout",
     "output_type": "stream",
     "text": [
      "0는 소수가 아님\n",
      "1는 소수가 아님\n",
      "2는 소수\n",
      "3는 소수\n",
      "4는 소수가 아님\n",
      "5는 소수\n",
      "6는 소수가 아님\n",
      "7는 소수\n",
      "8는 소수가 아님\n",
      "9는 소수가 아님\n",
      "10는 소수가 아님\n",
      "11는 소수\n",
      "12는 소수가 아님\n",
      "13는 소수\n",
      "14는 소수가 아님\n",
      "15는 소수가 아님\n",
      "16는 소수가 아님\n",
      "17는 소수\n",
      "18는 소수가 아님\n",
      "19는 소수\n",
      "20는 소수가 아님\n",
      "21는 소수가 아님\n",
      "22는 소수가 아님\n",
      "23는 소수\n",
      "24는 소수가 아님\n",
      "25는 소수가 아님\n",
      "26는 소수가 아님\n",
      "27는 소수가 아님\n",
      "28는 소수가 아님\n",
      "29는 소수\n",
      "30는 소수가 아님\n",
      "31는 소수\n",
      "32는 소수가 아님\n",
      "33는 소수가 아님\n",
      "34는 소수가 아님\n",
      "35는 소수가 아님\n",
      "36는 소수가 아님\n",
      "37는 소수\n",
      "38는 소수가 아님\n",
      "39는 소수가 아님\n",
      "40는 소수가 아님\n",
      "41는 소수\n",
      "42는 소수가 아님\n",
      "43는 소수\n",
      "44는 소수가 아님\n",
      "45는 소수가 아님\n",
      "46는 소수가 아님\n",
      "47는 소수\n",
      "48는 소수가 아님\n",
      "49는 소수가 아님\n",
      "50는 소수가 아님\n",
      "51는 소수가 아님\n",
      "52는 소수가 아님\n",
      "53는 소수\n",
      "54는 소수가 아님\n",
      "55는 소수가 아님\n",
      "56는 소수가 아님\n",
      "57는 소수가 아님\n",
      "58는 소수가 아님\n",
      "59는 소수\n",
      "60는 소수가 아님\n",
      "61는 소수\n",
      "62는 소수가 아님\n",
      "63는 소수가 아님\n",
      "64는 소수가 아님\n",
      "65는 소수가 아님\n",
      "66는 소수가 아님\n",
      "67는 소수\n",
      "68는 소수가 아님\n",
      "69는 소수가 아님\n",
      "70는 소수가 아님\n",
      "71는 소수\n",
      "72는 소수가 아님\n",
      "73는 소수\n",
      "74는 소수가 아님\n",
      "75는 소수가 아님\n",
      "76는 소수가 아님\n",
      "77는 소수가 아님\n",
      "78는 소수가 아님\n",
      "79는 소수\n",
      "80는 소수가 아님\n",
      "81는 소수가 아님\n",
      "82는 소수가 아님\n",
      "83는 소수\n",
      "84는 소수가 아님\n",
      "85는 소수가 아님\n",
      "86는 소수가 아님\n",
      "87는 소수가 아님\n",
      "88는 소수가 아님\n",
      "89는 소수\n",
      "90는 소수가 아님\n",
      "91는 소수가 아님\n",
      "92는 소수가 아님\n",
      "93는 소수가 아님\n",
      "94는 소수가 아님\n",
      "95는 소수가 아님\n",
      "96는 소수가 아님\n",
      "97는 소수\n",
      "98는 소수가 아님\n",
      "99는 소수가 아님\n"
     ]
    }
   ],
   "source": [
    "for i in range(100):\n",
    "    check_prime(i)"
   ]
  },
  {
   "cell_type": "code",
   "execution_count": null,
   "metadata": {},
   "outputs": [],
   "source": []
  }
 ],
 "metadata": {
  "kernelspec": {
   "display_name": "Python 3",
   "language": "python",
   "name": "python3"
  },
  "language_info": {
   "codemirror_mode": {
    "name": "ipython",
    "version": 3
   },
   "file_extension": ".py",
   "mimetype": "text/x-python",
   "name": "python",
   "nbconvert_exporter": "python",
   "pygments_lexer": "ipython3",
   "version": "3.6.5"
  }
 },
 "nbformat": 4,
 "nbformat_minor": 2
}
