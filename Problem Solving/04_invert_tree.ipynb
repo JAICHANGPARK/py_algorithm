{
 "cells": [
  {
   "cell_type": "code",
   "execution_count": 1,
   "metadata": {},
   "outputs": [],
   "source": [
    "class TreeNode:\n",
    "    def __init__(self, x):\n",
    "        self.val = x\n",
    "        self.left = None\n",
    "        self.right = None"
   ]
  },
  {
   "cell_type": "code",
   "execution_count": 2,
   "metadata": {},
   "outputs": [],
   "source": [
    "def invertTree(node):\n",
    "    if node is None:\n",
    "        return None\n",
    "    \n",
    "    node.left, node.right = node.right, node.left\n",
    "    invertTree(node.left)\n",
    "    invertTree(node.right)\n",
    "    return node"
   ]
  },
  {
   "cell_type": "code",
   "execution_count": 3,
   "metadata": {},
   "outputs": [],
   "source": [
    "def printTree(root):\n",
    "    print(root.val)\n",
    "    if root.left:\n",
    "        printTree(root.left)\n",
    "    if root.right:\n",
    "        printTree(root.right)"
   ]
  },
  {
   "cell_type": "code",
   "execution_count": 4,
   "metadata": {},
   "outputs": [
    {
     "name": "stdout",
     "output_type": "stream",
     "text": [
      "1\n",
      "3\n",
      "7\n",
      "6\n",
      "2\n",
      "5\n",
      "4\n"
     ]
    }
   ],
   "source": [
    "sample_tree = TreeNode(1)\n",
    "sample_tree.left = TreeNode(2)\n",
    "sample_tree.right = TreeNode(3)\n",
    "sample_tree.left.left = TreeNode(4)\n",
    "sample_tree.left.right = TreeNode(5)\n",
    "sample_tree.right.left = TreeNode(6)\n",
    "sample_tree.right.right = TreeNode(7)\n",
    "\n",
    "invertTree(sample_tree)\n",
    "printTree(sample_tree)"
   ]
  },
  {
   "cell_type": "code",
   "execution_count": 5,
   "metadata": {},
   "outputs": [
    {
     "name": "stdout",
     "output_type": "stream",
     "text": [
      "1\n",
      "3\n",
      "7\n",
      "2\n",
      "4\n"
     ]
    }
   ],
   "source": [
    "sample_tree = TreeNode(1)\n",
    "sample_tree.left = TreeNode(2)\n",
    "sample_tree.right = TreeNode(3)\n",
    "sample_tree.left.left = TreeNode(4)\n",
    "sample_tree.left.right = None\n",
    "sample_tree.right.left = None\n",
    "sample_tree.right.right = TreeNode(7)\n",
    "\n",
    "invertTree(sample_tree)\n",
    "printTree(sample_tree)"
   ]
  },
  {
   "cell_type": "code",
   "execution_count": null,
   "metadata": {},
   "outputs": [],
   "source": []
  }
 ],
 "metadata": {
  "kernelspec": {
   "display_name": "Python 3",
   "language": "python",
   "name": "python3"
  },
  "language_info": {
   "codemirror_mode": {
    "name": "ipython",
    "version": 3
   },
   "file_extension": ".py",
   "mimetype": "text/x-python",
   "name": "python",
   "nbconvert_exporter": "python",
   "pygments_lexer": "ipython3",
   "version": "3.6.5"
  }
 },
 "nbformat": 4,
 "nbformat_minor": 2
}
