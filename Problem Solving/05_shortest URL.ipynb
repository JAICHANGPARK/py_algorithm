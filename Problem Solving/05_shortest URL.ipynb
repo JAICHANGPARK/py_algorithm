{
 "cells": [
  {
   "cell_type": "markdown",
   "metadata": {},
   "source": [
    "## URL 단축 알고리즘 구현하기\n",
    "긴 웹 주소를 짧게 만들어주는 서비스를 구현해보도록 하겠습니다.\n",
    "기본적으로 웹주소들이 짧은 URL로 표현되었을 때, 중복된 URL이 없어야하며,\n",
    "100억개의 주소까지는 단축된 주소를 / 이하 길이 6개까지 제한합니다.\n",
    "\n",
    "ex) https://www.youtube.com/watch?v=rkt34Yt4KIo&list=LLxP77kNgVfiiG6CXZ5WMuAQ -> short_url.com/abcde\n",
    "\n",
    "## 딕셔너리로 구현하기\n",
    "딕셔너리에 key는 url, value을 지금까지 저장된 url의 갯수로 저장합니다. value를 바로 리턴하여 단축된 URL로 사용해도 되지만, 더 압축된 URL을 원한다면,\n",
    "10진수를 62진수로 바꾼 후 리턴하여 보다 단축된 URL을 지원할 수 있습니다."
   ]
  },
  {
   "cell_type": "code",
   "execution_count": 21,
   "metadata": {},
   "outputs": [],
   "source": [
    "class URL_Shortener:\n",
    "    id = 100000000000000\n",
    "    url2id = {}\n",
    "    \n",
    "    def shorten_url(self, original_url):\n",
    "        if original_url in self.url2id:\n",
    "            id = self.url2id[original_url]\n",
    "            shorten_url = self.encode(id)\n",
    "        else:\n",
    "            # store url2id in order not to have duplicated url with different id in the future\n",
    "            self.url2id[original_url] = self.id\n",
    "            shorten_url = self.encode(self.id)\n",
    "            # increase cnt for next url\n",
    "            self.id += 1\n",
    "        \n",
    "        return \"short_url.com/\"+shorten_url\n",
    "    \n",
    "    def encode(self, id):\n",
    "        # base 62 characters\n",
    "        characters = \"0123456789abcdefghijklmnopqrstuvwxyzABCDEFGHIJKLMNOPQRSTUVWXYZ\"\n",
    "        base = len(characters)\n",
    "        ret = []\n",
    "        # convert base10 id into base62 id for having alphanumeric shorten url\n",
    "        while id > 0:\n",
    "            val = id % base\n",
    "            ret.append(characters[val])\n",
    "            id = id // base\n",
    "        # since ret has reversed order of base62 id, reverse ret before return it\n",
    "        return \"\".join(ret[::-1])"
   ]
  },
  {
   "cell_type": "code",
   "execution_count": 22,
   "metadata": {},
   "outputs": [
    {
     "name": "stdout",
     "output_type": "stream",
     "text": [
      "short_url.com/soytz0as\n",
      "short_url.com/soytz0as\n",
      "short_url.com/soytz0at\n",
      "short_url.com/soytz0au\n",
      "short_url.com/soytz0av\n"
     ]
    }
   ],
   "source": [
    "shortener = URL_Shortener()\n",
    "print(shortener.shorten_url(\"goooooooooooooogle.com\"))\n",
    "print(shortener.shorten_url(\"goooooooooooooogle.com\"))\n",
    "print(shortener.shorten_url(\"veryloooooooongurl.com\"))\n",
    "print(shortener.shorten_url(\"helllloooooooooooo.com\"))\n",
    "print(shortener.shorten_url(\"https://coding_interview.com/questions/183658/replacing-letters-with-number\"))"
   ]
  },
  {
   "cell_type": "code",
   "execution_count": null,
   "metadata": {},
   "outputs": [],
   "source": []
  }
 ],
 "metadata": {
  "kernelspec": {
   "display_name": "Python 3",
   "language": "python",
   "name": "python3"
  },
  "language_info": {
   "codemirror_mode": {
    "name": "ipython",
    "version": 3
   },
   "file_extension": ".py",
   "mimetype": "text/x-python",
   "name": "python",
   "nbconvert_exporter": "python",
   "pygments_lexer": "ipython3",
   "version": "3.6.5"
  }
 },
 "nbformat": 4,
 "nbformat_minor": 2
}
