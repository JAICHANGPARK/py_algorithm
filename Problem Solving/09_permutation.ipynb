{
 "cells": [
  {
   "cell_type": "markdown",
   "metadata": {},
   "source": [
    "# 순열"
   ]
  },
  {
   "cell_type": "code",
   "execution_count": 6,
   "metadata": {},
   "outputs": [
    {
     "name": "stdout",
     "output_type": "stream",
     "text": [
      "[1, 2]\n",
      "[2, 1]\n"
     ]
    }
   ],
   "source": [
    "def perm(n, i):\n",
    "    if i == len(n) - 1:\n",
    "        print(n)\n",
    "    else:\n",
    "        for j in range(i, len(n)):\n",
    "            n[i], n[j] = n[j], n[i]\n",
    "            perm(n, i + 1)\n",
    "            n[i], n[j] = n[j], n[i]  # swap back, for the next loop\n",
    "\n",
    "\n",
    "perm([1, 2], 0)"
   ]
  },
  {
   "cell_type": "code",
   "execution_count": 5,
   "metadata": {},
   "outputs": [],
   "source": [
    "def perm(n,i):\n",
    "    if i == len(n)-1:\n",
    "        print(n)\n",
    "    else:\n",
    "        for j in range(i, len(n)):\n",
    "            n[i], n[j] = n[j], n[i]\n",
    "            perm(n, i + 1)\n",
    "            n[i], n[j] = n[j], n[i]"
   ]
  },
  {
   "cell_type": "code",
   "execution_count": null,
   "metadata": {},
   "outputs": [],
   "source": []
  }
 ],
 "metadata": {
  "kernelspec": {
   "display_name": "Python 3",
   "language": "python",
   "name": "python3"
  },
  "language_info": {
   "codemirror_mode": {
    "name": "ipython",
    "version": 3
   },
   "file_extension": ".py",
   "mimetype": "text/x-python",
   "name": "python",
   "nbconvert_exporter": "python",
   "pygments_lexer": "ipython3",
   "version": "3.6.5"
  }
 },
 "nbformat": 4,
 "nbformat_minor": 2
}
