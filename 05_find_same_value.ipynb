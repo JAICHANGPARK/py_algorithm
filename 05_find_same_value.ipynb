{
 "cells": [
  {
   "cell_type": "code",
   "execution_count": 1,
   "metadata": {
    "collapsed": true
   },
   "outputs": [],
   "source": [
    "def find_same_value(set_value):\n",
    "    set_length = len(set_value)\n",
    "    result = set()\n",
    "    for i in range(0, set_length - 1):\n",
    "        for j in range(i + 1, set_length):\n",
    "            if set_value[i] == set_value[j]:\n",
    "                result.add(set_value[i])\n",
    "    return result"
   ]
  },
  {
   "cell_type": "code",
   "execution_count": 2,
   "metadata": {
    "collapsed": true
   },
   "outputs": [],
   "source": [
    "name_set = [\"hole\", \"john\", \"tom\", \"david\", \"jeff\", \"hole\"]"
   ]
  },
  {
   "cell_type": "code",
   "execution_count": 3,
   "metadata": {},
   "outputs": [
    {
     "name": "stdout",
     "output_type": "stream",
     "text": [
      "{'hole'}\n"
     ]
    }
   ],
   "source": [
    "print(find_same_value(name_set))"
   ]
  },
  {
   "cell_type": "code",
   "execution_count": 4,
   "metadata": {
    "collapsed": true
   },
   "outputs": [],
   "source": [
    "def find_pair(set_value):\n",
    "    set_length = len(set_value)\n",
    "    for i in range(0, set_length - 1):\n",
    "        for j in range(i + 1, set_length):\n",
    "            print(set_value[i], \"-\", set_value[j])"
   ]
  },
  {
   "cell_type": "code",
   "execution_count": 5,
   "metadata": {},
   "outputs": [
    {
     "name": "stdout",
     "output_type": "stream",
     "text": [
      "hole - john\n",
      "hole - tom\n",
      "hole - david\n",
      "hole - jeff\n",
      "hole - hole\n",
      "john - tom\n",
      "john - david\n",
      "john - jeff\n",
      "john - hole\n",
      "tom - david\n",
      "tom - jeff\n",
      "tom - hole\n",
      "david - jeff\n",
      "david - hole\n",
      "jeff - hole\n"
     ]
    }
   ],
   "source": [
    "find_pair(name_set)"
   ]
  }
 ],
 "metadata": {
  "kernelspec": {
   "display_name": "Python 3",
   "language": "python",
   "name": "python3"
  },
  "language_info": {
   "codemirror_mode": {
    "name": "ipython",
    "version": 3
   },
   "file_extension": ".py",
   "mimetype": "text/x-python",
   "name": "python",
   "nbconvert_exporter": "python",
   "pygments_lexer": "ipython3",
   "version": "3.5.2"
  }
 },
 "nbformat": 4,
 "nbformat_minor": 2
}
