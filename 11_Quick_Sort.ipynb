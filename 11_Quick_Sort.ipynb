{
 "cells": [
  {
   "cell_type": "code",
   "execution_count": 1,
   "metadata": {
    "collapsed": true
   },
   "outputs": [],
   "source": [
    "def quick(n_list):\n",
    "    n = len(n_list)\n",
    "    if n <= 1:\n",
    "        return n_list\n",
    "    pivots = n_list[-1] # last value of list\n",
    "    group_1 = []\n",
    "    group_2 = []\n",
    "    for i in range(0, n-1):\n",
    "        if a[i] < pivots:\n",
    "            group_1.append(n_list[i]) # small \n",
    "        else:\n",
    "            group_2.append(n_list[i])\n",
    "        return quick(group_1) + [pivots] + quick(group_2)\n",
    "    "
   ]
  },
  {
   "cell_type": "code",
   "execution_count": 2,
   "metadata": {
    "collapsed": true
   },
   "outputs": [],
   "source": [
    "def norm_quick(num_list, start, end):\n",
    "    if end - start <= 0:\n",
    "        return \n",
    "    pivoit = num_list[end]\n",
    "    i = start\n",
    "    for j in range(start, end):\n",
    "        if num_list[j] <= pivoit:\n",
    "            num_list[i], num_list[j] = num_list[j], num_list[i]\n",
    "            i = i + 1\n",
    "    num_list[i], num_list[end] = num_list[end], num_list[i]\n",
    "    \n",
    "    norm_quick(num_list, start, i - 1)\n",
    "    norm_quick(num_list, i + 1, end)\n",
    "    "
   ]
  },
  {
   "cell_type": "code",
   "execution_count": 3,
   "metadata": {
    "collapsed": true
   },
   "outputs": [],
   "source": [
    "def sort_q(num_list):\n",
    "    norm_quick(num_list,0,len(num_list) - 1)"
   ]
  },
  {
   "cell_type": "code",
   "execution_count": null,
   "metadata": {
    "collapsed": true
   },
   "outputs": [],
   "source": []
  }
 ],
 "metadata": {
  "kernelspec": {
   "display_name": "Python 3",
   "language": "python",
   "name": "python3"
  },
  "language_info": {
   "codemirror_mode": {
    "name": "ipython",
    "version": 3
   },
   "file_extension": ".py",
   "mimetype": "text/x-python",
   "name": "python",
   "nbconvert_exporter": "python",
   "pygments_lexer": "ipython3",
   "version": "3.5.2"
  }
 },
 "nbformat": 4,
 "nbformat_minor": 2
}
